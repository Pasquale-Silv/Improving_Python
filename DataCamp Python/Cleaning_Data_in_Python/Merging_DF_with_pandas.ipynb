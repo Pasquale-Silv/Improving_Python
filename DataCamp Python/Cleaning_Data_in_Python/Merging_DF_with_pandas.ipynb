{
 "cells": [
  {
   "cell_type": "code",
   "execution_count": null,
   "metadata": {},
   "outputs": [],
   "source": [
    "#1-to-1 data merge\n",
    "\n",
    "# Merging data allows you to combine disparate datasets into a single dataset to do more complex analysis.\n",
    "\"\"\"\n",
    "Two DataFrames have been pre-loaded: site and visited. Explore them in the IPython Shell and take note of their structure and column names. \n",
    "Your task is to perform a 1-to-1 merge of these two DataFrames using the 'name' column of site and the 'site' column of visited.\n",
    "\"\"\"\n",
    "\n",
    "# Merge the site and visited DataFrames on the 'name' column of site and 'site' column of visited.\n",
    "\n",
    "# Merge the DataFrames: o2o\n",
    "# Assume you have this two DF: site and visited.\n",
    "o2o = pd.merge(left=site, right=visited, left_on='name', right_on='site')\n",
    "\n",
    "# Print o2o\n",
    "print(o2o)\n"
   ]
  },
  {
   "cell_type": "code",
   "execution_count": null,
   "metadata": {},
   "outputs": [],
   "source": [
    "# Many-to-1 data merge\n",
    "# In a many-to-one (or one-to-many) merge, one of the values will be duplicated and recycled in the output. \n",
    "# That is, one of the keys in the merge is not unique.\n",
    "# The .merge() method call is the same as the 1-to-1 merge from the previous exercise, but the data and output will be different.\n",
    "\n",
    "# Merge the DataFrames: m2o\n",
    "m2o = pd.merge(left=site, right=visited, left_on='name', right_on='site')\n",
    "\n",
    "# Print m2o\n",
    "print(m2o)\n"
   ]
  },
  {
   "cell_type": "code",
   "execution_count": null,
   "metadata": {},
   "outputs": [],
   "source": [
    "# Many-to-many data merge\n",
    "\n",
    "\"\"\"\n",
    "The final merging scenario occurs when both DataFrames do not have unique keys for a merge. \n",
    "What happens here is that for each duplicated key, every pairwise combination will be created.\n",
    "\"\"\"\n",
    "\n",
    "# Merge site and visited: m2m\n",
    "m2m = pd.merge(left=site, right=visited, left_on='name', right_on='site')\n",
    "\n",
    "# Merge m2m and survey: m2m\n",
    "m2m = pd.merge(left=m2m, right=survey, left_on='ident', right_on='taken')\n",
    "\n",
    "# Print the first 20 lines of m2m\n",
    "print(m2m.head(20))\n"
   ]
  }
 ],
 "metadata": {
  "kernelspec": {
   "display_name": "Python 3",
   "language": "python",
   "name": "python3"
  },
  "language_info": {
   "codemirror_mode": {
    "name": "ipython",
    "version": 3
   },
   "file_extension": ".py",
   "mimetype": "text/x-python",
   "name": "python",
   "nbconvert_exporter": "python",
   "pygments_lexer": "ipython3",
   "version": "3.7.3"
  }
 },
 "nbformat": 4,
 "nbformat_minor": 2
}
