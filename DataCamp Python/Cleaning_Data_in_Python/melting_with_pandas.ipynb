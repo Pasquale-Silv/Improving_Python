{
 "cells": [
  {
   "cell_type": "code",
   "execution_count": null,
   "metadata": {},
   "outputs": [],
   "source": [
    "# Melting data is the process of turning columns of your data into rows of data.\n",
    "\"\"\"\n",
    "In this exercise, you will practice melting a DataFrame using pd.melt(). \n",
    "There are two parameters you should be aware of: id_vars and value_vars. \n",
    "The id_vars represent the columns of the data you do not want to melt (i.e., keep it in its current shape),\n",
    "while the value_vars represent the columns you do wish to melt into rows. By default, if no value_vars are provided, \n",
    "all columns not set in the id_vars will be melted. This could save a bit of typing, depending on the number of columns that need to be melted.\n",
    "\"\"\"\n",
    "\n",
    "# Print the head of airquality\n",
    "print(airquality.head())\n",
    "\n",
    "# Use pd.melt() to melt the Ozone, Solar.R, Wind, and Temp columns of airquality into rows. \n",
    "# Do this by using id_vars to specify the columns you do not wish to melt: 'Month' and 'Day'.\n",
    "# Melt airquality: airquality_melt\n",
    "airquality_melt = pd.melt(frame=airquality, id_vars=['Month', 'Day'])\n",
    "\n",
    "# Print the head of airquality_melt\n",
    "print(airquality_melt.head())\n"
   ]
  },
  {
   "cell_type": "code",
   "execution_count": null,
   "metadata": {},
   "outputs": [],
   "source": [
    "# When melting DataFrames, it would be better to have column names more meaningful than variable and value (the default names used by pd.melt()).\n",
    "# You can rename the variable column by specifying an argument to the var_name parameter, \n",
    "# and the value column by specifying an argument to the value_name parameter. You will now practice doing exactly this.\n",
    "\n",
    "# Print the head of airquality\n",
    "print(airquality.head())\n",
    "\n",
    "# Melt the columns of airquality with the default variable column renamed to 'measurement' and the default value column renamed to 'reading'. \n",
    "# You can do this by specifying, respectively, the var_name and value_name parameters.\n",
    "# Melt airquality: airquality_melt\n",
    "airquality_melt = pd.melt(airquality, id_vars=['Month', 'Day'], var_name='measurement', value_name='reading')\n",
    "\n",
    "# Print the head of airquality_melt\n",
    "print(airquality_melt.head())\n"
   ]
  }
 ],
 "metadata": {
  "kernelspec": {
   "display_name": "Python 3",
   "language": "python",
   "name": "python3"
  },
  "language_info": {
   "codemirror_mode": {
    "name": "ipython",
    "version": 3
   },
   "file_extension": ".py",
   "mimetype": "text/x-python",
   "name": "python",
   "nbconvert_exporter": "python",
   "pygments_lexer": "ipython3",
   "version": "3.7.3"
  }
 },
 "nbformat": 4,
 "nbformat_minor": 2
}
