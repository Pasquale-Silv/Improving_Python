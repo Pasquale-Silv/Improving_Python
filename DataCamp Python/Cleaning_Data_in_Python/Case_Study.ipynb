{
 "cells": [
  {
   "cell_type": "markdown",
   "metadata": {},
   "source": [
    "# Exploratory analysis\n",
    "Whenever you obtain a new dataset, your first task should always be to do some exploratory analysis to get a better understanding of the data and diagnose it for any potential issues."
   ]
  },
  {
   "cell_type": "code",
   "execution_count": 1,
   "metadata": {},
   "outputs": [],
   "source": [
    "import pandas as pd\n",
    "import numpy as np\n",
    "import matplotlib.pyplot as plt"
   ]
  },
  {
   "cell_type": "code",
   "execution_count": 13,
   "metadata": {},
   "outputs": [
    {
     "name": "stdout",
     "output_type": "stream",
     "text": [
      "HEAD:\n",
      "   Unnamed: 0   1800   1801   1802   1803   1804   1805   1806   1807   1808  \\\n",
      "0           0    NaN    NaN    NaN    NaN    NaN    NaN    NaN    NaN    NaN   \n",
      "1           1  28.21  28.20  28.19  28.18  28.17  28.16  28.15  28.14  28.13   \n",
      "2           2    NaN    NaN    NaN    NaN    NaN    NaN    NaN    NaN    NaN   \n",
      "3           3  35.40  35.40  35.40  35.40  35.40  35.40  35.40  35.40  35.40   \n",
      "4           4  28.82  28.82  28.82  28.82  28.82  28.82  28.82  28.82  28.82   \n",
      "\n",
      "   ...  2008  2009  2010  2011  2012  2013  2014  2015  2016  \\\n",
      "0  ...   NaN   NaN   NaN   NaN   NaN   NaN   NaN   NaN   NaN   \n",
      "1  ...   NaN   NaN   NaN   NaN   NaN   NaN   NaN   NaN   NaN   \n",
      "2  ...   NaN   NaN   NaN   NaN   NaN   NaN   NaN   NaN   NaN   \n",
      "3  ...   NaN   NaN   NaN   NaN   NaN   NaN   NaN   NaN   NaN   \n",
      "4  ...   NaN   NaN   NaN   NaN   NaN   NaN   NaN   NaN   NaN   \n",
      "\n",
      "         Life expectancy  \n",
      "0               Abkhazia  \n",
      "1            Afghanistan  \n",
      "2  Akrotiri and Dhekelia  \n",
      "3                Albania  \n",
      "4                Algeria  \n",
      "\n",
      "[5 rows x 219 columns]\n",
      "\n",
      "\n",
      "\n",
      "INFO:\n",
      "<class 'pandas.core.frame.DataFrame'>\n",
      "RangeIndex: 780 entries, 0 to 779\n",
      "Columns: 219 entries, Unnamed: 0 to Life expectancy\n",
      "dtypes: float64(217), int64(1), object(1)\n",
      "memory usage: 1.3+ MB\n",
      "None\n",
      "\n",
      "\n",
      "\n",
      "Shape:\n",
      "(780, 219)\n",
      "\n",
      "\n",
      "\n",
      "Size:\n",
      "170820\n",
      "\n",
      "\n",
      "\n",
      "Summary statistics:\n",
      "       Unnamed: 0        1800        1801        1802        1803        1804  \\\n",
      "count  780.000000  201.000000  201.000000  201.000000  201.000000  201.000000   \n",
      "mean   129.500000   31.486020   31.448905   31.463483   31.377413   31.446318   \n",
      "std     75.103138    3.763585    3.755739    3.878204    3.901966    3.877156   \n",
      "min      0.000000   23.390000   23.390000   23.390000   19.600000   23.390000   \n",
      "25%     64.750000   29.000000   28.950000   28.900000   28.900000   28.950000   \n",
      "50%    129.500000   31.800000   31.700000   31.600000   31.500000   31.600000   \n",
      "75%    194.250000   33.900000   33.900000   33.900000   33.800000   33.870000   \n",
      "max    259.000000   42.850000   40.300000   44.370000   44.840000   42.830000   \n",
      "\n",
      "             1805        1806        1807        1808  ...        2007  \\\n",
      "count  201.000000  201.000000  201.000000  201.000000  ...  208.000000   \n",
      "mean    31.562537   31.615970   31.573134   31.376766  ...   70.139712   \n",
      "std      3.947957    4.039261    3.917339    4.017228  ...    8.953255   \n",
      "min     23.390000   23.390000   23.390000   12.480000  ...   43.300000   \n",
      "25%     29.000000   29.000000   29.000000   28.950000  ...   64.825000   \n",
      "50%     31.700000   31.800000   31.800000   31.600000  ...   72.750000   \n",
      "75%     33.900000   34.000000   34.000000   33.870000  ...   76.925000   \n",
      "max     44.270000   45.820000   43.560000   43.550000  ...   84.500000   \n",
      "\n",
      "             2008        2009        2010        2011        2012        2013  \\\n",
      "count  208.000000  208.000000  208.000000  208.000000  208.000000  208.000000   \n",
      "mean    70.447163   70.767740   70.969904   71.324375   71.663077   71.916106   \n",
      "std      8.800452    8.610341    8.898859    8.376540    8.217466    8.120852   \n",
      "min     44.500000   45.500000   32.200000   46.700000   46.100000   45.600000   \n",
      "25%     64.875000   65.225000   65.475000   65.600000   66.075000   66.475000   \n",
      "50%     73.000000   73.350000   73.700000   73.750000   74.050000   74.150000   \n",
      "75%     77.150000   77.425000   77.650000   77.825000   78.125000   78.300000   \n",
      "max     84.600000   84.600000   84.700000   84.700000   84.700000   84.800000   \n",
      "\n",
      "             2014       2015        2016  \n",
      "count  208.000000  208.00000  208.000000  \n",
      "mean    72.088125   72.32101   72.556635  \n",
      "std      8.074990    7.90202    7.738535  \n",
      "min     45.400000   47.10000   48.860000  \n",
      "25%     66.775000   67.05000   67.175000  \n",
      "50%     74.300000   74.40000   74.500000  \n",
      "75%     78.400000   78.50000   78.650000  \n",
      "max     84.800000   84.80000   84.800000  \n",
      "\n",
      "[8 rows x 218 columns]\n",
      "\n",
      "\n",
      "\n",
      "Columns:\n",
      "Index(['Unnamed: 0', '1800', '1801', '1802', '1803', '1804', '1805', '1806',\n",
      "       '1807', '1808',\n",
      "       ...\n",
      "       '2008', '2009', '2010', '2011', '2012', '2013', '2014', '2015', '2016',\n",
      "       'Life expectancy'],\n",
      "      dtype='object', length=219)\n"
     ]
    }
   ],
   "source": [
    "gapminder_DF = pd.read_csv('Gapminder.csv')\n",
    "\n",
    "print(\"HEAD:\")\n",
    "print(gapminder_DF.head())\n",
    "\n",
    "print(\"\\n\\n\\nINFO:\")\n",
    "print(gapminder_DF.info())                   # missing values\n",
    "\n",
    "print(\"\\n\\n\\nShape:\")\n",
    "print(gapminder_DF.shape)\n",
    "\n",
    "print(\"\\n\\n\\nSize:\")\n",
    "print(gapminder_DF.size)\n",
    "\n",
    "print(\"\\n\\n\\nSummary statistics:\")\n",
    "print(gapminder_DF.describe())\n",
    "\n",
    "print(\"\\n\\n\\nColumns:\")\n",
    "print(gapminder_DF.columns)"
   ]
  },
  {
   "cell_type": "code",
   "execution_count": 8,
   "metadata": {},
   "outputs": [
    {
     "data": {
      "image/png": "[encoded data removed]",
      "text/plain": [
       "<Figure size 432x288 with 1 Axes>"
      ]
     },
     "metadata": {
      "needs_background": "light"
     },
     "output_type": "display_data"
    }
   ],
   "source": [
    "# Create the scatter plot\n",
    "gapminder_DF.plot(kind='scatter', x='1800', y='1899')\n",
    "\n",
    "# Specify axis labels\n",
    "plt.xlabel('Life Expectancy by Country in 1800')\n",
    "plt.ylabel('Life Expectancy by Country in 1899')\n",
    "\n",
    "# Specify axis limits\n",
    "plt.xlim(20, 55)                       # Limits on the axis\n",
    "plt.ylim(20, 55)\n",
    "\n",
    "# Display the plot\n",
    "plt.show()"
   ]
  },
  {
   "cell_type": "code",
   "execution_count": 24,
   "metadata": {
    "scrolled": true
   },
   "outputs": [
    {
     "data": {
      "text/plain": [
       "Unnamed: 0           int64\n",
       "1800               float64\n",
       "1801               float64\n",
       "1802               float64\n",
       "1803               float64\n",
       "1804               float64\n",
       "1805               float64\n",
       "1806               float64\n",
       "1807               float64\n",
       "1808               float64\n",
       "1809               float64\n",
       "1810               float64\n",
       "1811               float64\n",
       "1812               float64\n",
       "1813               float64\n",
       "1814               float64\n",
       "1815               float64\n",
       "1816               float64\n",
       "1817               float64\n",
       "1818               float64\n",
       "1819               float64\n",
       "1820               float64\n",
       "1821               float64\n",
       "1822               float64\n",
       "1823               float64\n",
       "1824               float64\n",
       "1825               float64\n",
       "1826               float64\n",
       "1827               float64\n",
       "1828               float64\n",
       "                    ...   \n",
       "1988               float64\n",
       "1989               float64\n",
       "1990               float64\n",
       "1991               float64\n",
       "1992               float64\n",
       "1993               float64\n",
       "1994               float64\n",
       "1995               float64\n",
       "1996               float64\n",
       "1997               float64\n",
       "1998               float64\n",
       "1999               float64\n",
       "2000               float64\n",
       "2001               float64\n",
       "2002               float64\n",
       "2003               float64\n",
       "2004               float64\n",
       "2005               float64\n",
       "2006               float64\n",
       "2007               float64\n",
       "2008               float64\n",
       "2009               float64\n",
       "2010               float64\n",
       "2011               float64\n",
       "2012               float64\n",
       "2013               float64\n",
       "2014               float64\n",
       "2015               float64\n",
       "2016               float64\n",
       "Life expectancy     object\n",
       "Length: 219, dtype: object"
      ]
     },
     "execution_count": 24,
     "metadata": {},
     "output_type": "execute_result"
    }
   ],
   "source": [
    "gapminder_DF.dtypes                         # Tipi"
   ]
  },
  {
   "cell_type": "markdown",
   "metadata": {},
   "source": [
    "# Salvare un DataFrame come file .csv ed esportarlo (Fattibile anche per excel)"
   ]
  },
  {
   "cell_type": "code",
   "execution_count": 25,
   "metadata": {},
   "outputs": [],
   "source": [
    "# Save both DataFrames to csv files\n",
    "gapminder_DF.to_csv('gapminderCreatoEdEsportato.csv')"
   ]
  },
  {
   "cell_type": "code",
   "execution_count": null,
   "metadata": {},
   "outputs": [],
   "source": []
  }
 ],
 "metadata": {
  "kernelspec": {
   "display_name": "Python 3",
   "language": "python",
   "name": "python3"
  },
  "language_info": {
   "codemirror_mode": {
    "name": "ipython",
    "version": 3
   },
   "file_extension": ".py",
   "mimetype": "text/x-python",
   "name": "python",
   "nbconvert_exporter": "python",
   "pygments_lexer": "ipython3",
   "version": "3.7.3"
  }
 },
 "nbformat": 4,
 "nbformat_minor": 2
}
