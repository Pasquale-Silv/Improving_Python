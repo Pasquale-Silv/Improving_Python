{
 "cells": [
  {
   "cell_type": "code",
   "execution_count": 1,
   "metadata": {},
   "outputs": [],
   "source": [
    "import pandas as pd\n",
    "import numpy as np\n",
    "import matplotlib.pyplot as plt\n",
    "import seaborn as sns"
   ]
  },
  {
   "cell_type": "code",
   "execution_count": 2,
   "metadata": {},
   "outputs": [
    {
     "name": "stdout",
     "output_type": "stream",
     "text": [
      "Index(['state', 'county', 'total_votes', 'dem_votes', 'rep_votes',\n",
      "       'other_votes', 'dem_share', 'east_west'],\n",
      "      dtype='object') \n",
      "\n",
      "\n",
      "Index:\n",
      " RangeIndex(start=0, stop=3153, step=1) \n",
      "\n",
      "\n",
      "Shape: (3153, 8) \n",
      "\n",
      "\n",
      "   state                                       county  total_votes  dem_votes  \\\n",
      "0     AK    State House District 8, Denali-University        10320       4995   \n",
      "1     AK  State House District 37, Bristol Bay-Aleuti         4665       1868   \n",
      "2     AK  State House District 12, Richardson-Glenn H         7589       1914   \n",
      "3     AK      State House District 13, Greater Palmer        11526       2800   \n",
      "4     AK     State House District 14, Greater Wasilla        10456       2132   \n",
      "5     AK  State House District 16, Chugiak-South Mat-        10697       2636   \n",
      "6     AK        State House District 15, Rural Mat-Su        11086       2510   \n",
      "7     AK      State House District 39, Bering Straits         5184       2695   \n",
      "8     AK              State House District 40, Arctic         5000       2137   \n",
      "9     AK  State House District 2, Sitka-Wrangell-Pete         7735       3468   \n",
      "10    AK  State House District 3, Juneau-Downtown-Dou         8767       5657   \n",
      "11    AK  State House District 4, Juneau-Mendenhall V         8736       4161   \n",
      "\n",
      "    rep_votes  other_votes  dem_share east_west  \n",
      "0        4983          342      50.06      west  \n",
      "1        2661          136      41.24      west  \n",
      "2        5467          208      25.93      west  \n",
      "3        8432          294      24.93      west  \n",
      "4        8108          216      20.82      west  \n",
      "5        7774          287      25.32      west  \n",
      "6        8227          349      23.38      west  \n",
      "7        2323          166      53.71      west  \n",
      "8        2686          177      44.31      west  \n",
      "9        4029          238      46.26      west  \n",
      "10       2829          281      66.66      west  \n",
      "11       4302          273      49.17      west  \n"
     ]
    }
   ],
   "source": [
    "df1 = pd.read_csv('2008_election_result.csv')\n",
    "\n",
    "print(df1.columns, \"\\n\\n\")\n",
    "print(\"Index:\\n\", df1.index, \"\\n\\n\")\n",
    "print(\"Shape:\", df1.shape, \"\\n\\n\")\n",
    "\n",
    "print(df1.head(12))\n"
   ]
  },
  {
   "cell_type": "code",
   "execution_count": 3,
   "metadata": {},
   "outputs": [
    {
     "name": "stdout",
     "output_type": "stream",
     "text": [
      "0.6332995213031704\n",
      "0.15814134218364373\n",
      "0.008504045541874006\n",
      "0.4305997479172027\n",
      "0.5182804567579662\n",
      "0.08673942472642482\n",
      "\n",
      "Con size:\n",
      " [0.77296678 0.42095883 0.03155956 0.34558589 0.5022594  0.10731902\n",
      " 0.40134794 0.54605189 0.65493759 0.38197897]\n"
     ]
    }
   ],
   "source": [
    "# What is the goal of statistical inference?\n",
    "# Statistical inference involves taking your data to probabilistic conclusions about what you would expect if you took even \n",
    "# more data, and you can make decisions based on these conclusions.\n",
    "# We use probabilistic language in statistical inference\n",
    "# Probabilistic language is in fact very precise. It precisely describes uncertainty.\n",
    "# Data are almost never exactly the same when acquired again, and probability allows us to say how much we expect them to vary\n",
    "\n",
    "\"\"\"\n",
    "Generating random numbers using the np.random module\n",
    "We will be hammering the np.random module for the rest of this course and its sequel. \n",
    "Actually, you will probably call functions from this module more than any other while wearing your hacker statistician hat. \n",
    "Let's start by taking its simplest function, np.random.random() for a test spin. \n",
    "The function returns a random number between zero and one.\n",
    "\"\"\"\n",
    "\n",
    "print(np.random.random())\n",
    "\n",
    "for _ in range(5):\n",
    "    print(np.random.random())\n",
    "\n",
    "print(\"\\nCon size:\\n\", np.random.random(size=10))        # Con size anzichè usare il for loop\n",
    "\n",
    "# Setta il seed se hai bisogno di riprodurre i risultati"
   ]
  },
  {
   "cell_type": "code",
   "execution_count": 5,
   "metadata": {},
   "outputs": [
    {
     "data": {
      "image/png": "[encoded data removed]",
      "text/plain": [
       "<Figure size 432x288 with 1 Axes>"
      ]
     },
     "metadata": {
      "needs_background": "light"
     },
     "output_type": "display_data"
    }
   ],
   "source": [
    "# Seed the random number generator, so tou can reproduce the result\n",
    "np.random.seed(42)\n",
    "\n",
    "# Initialize random numbers: random_numbers\n",
    "random_numbers = np.empty(100000)\n",
    "\n",
    "# Generate random numbers by looping over range(100000)\n",
    "for i in range(100000):\n",
    "    random_numbers[i] = np.random.random()\n",
    "\n",
    "# Plot a histogram\n",
    "plt.hist(random_numbers)\n",
    "\n",
    "# Show the plot\n",
    "plt.show()\n",
    "\n",
    "# The histogram is almost exactly flat across the top, \n",
    "# indicating that there is equal chance that a randomly-generated number is in any of the bins of the histogram."
   ]
  },
  {
   "cell_type": "markdown",
   "metadata": {},
   "source": [
    "# The np.random module and Bernoulli trials\n",
    "\n",
    "You can think of a Bernoulli trial as a flip of a possibly biased coin. Specifically, each coin flip has a probability p of landing heads (success) and probability 1−p of landing tails (failure). In this exercise, you will write a function to perform n Bernoulli trials, perform_bernoulli_trials(n, p), which returns the number of successes out of n Bernoulli trials, each of which has probability p of success. To perform each Bernoulli trial, use the np.random.random() function, which returns a random number between zero and one."
   ]
  },
  {
   "cell_type": "code",
   "execution_count": 6,
   "metadata": {},
   "outputs": [],
   "source": [
    "def perform_bernoulli_trials(n, p):\n",
    "    \"\"\"Perform n Bernoulli trials with success probability p\n",
    "    and return number of successes.\"\"\"\n",
    "    # Initialize number of successes: n_success\n",
    "    n_success = 0\n",
    "\n",
    "    # Perform trials\n",
    "    for i in range(n):\n",
    "        # Choose random number between zero and one: random_number\n",
    "        random_number = np.random.random()\n",
    "\n",
    "        # If less than p, it's a success so add one to n_success\n",
    "        if (random_number < p):\n",
    "            n_success += 1\n",
    "\n",
    "    return n_success"
   ]
  },
  {
   "cell_type": "code",
   "execution_count": 15,
   "metadata": {},
   "outputs": [
    {
     "data": {
      "image/png": "[encoded data removed]",
      "text/plain": [
       "<Figure size 432x288 with 1 Axes>"
      ]
     },
     "metadata": {
      "needs_background": "light"
     },
     "output_type": "display_data"
    },
    {
     "name": "stdout",
     "output_type": "stream",
     "text": [
      "\n",
      "Defaults per 100 prestiti concessi(con p=5%):\n",
      "[ 6.  5.  7.  8.  5.  5.  3.  2.  7.  6.  7.  3.  8.  3.  8.  5.  2.  6.\n",
      "  4.  5.  3.  2.  9.  5.  5.  3.  8.  7.  7.  5.  4.  3.  4.  5.  6.  1.\n",
      "  8.  4.  2.  9.  6.  5.  2.  6.  3.  6.  2.  6.  4.  4.  6.  4.  5.  4.\n",
      "  3.  4.  6.  3.  4.  8.  2.  4.  1.  6.  6.  6.  2.  2.  3.  8.  7.  2.\n",
      "  6.  6.  3.  6.  3. 10.  7.  6.  4.  5.  8.  4.  6.  4.  6.  1. 10.  4.\n",
      "  4.  4.  5.  4.  5.  2.  8.  7.  3.  7.  9.  6.  8.  2.  5.  4.  3.  6.\n",
      "  2.  6.  9.  5.  6.  6.  4.  4.  7.  6.  6.  7.  1.  5.  4.  1.  4.  6.\n",
      "  3.  2.  3.  8.  8.  6.  7.  6.  4.  4.  7.  2.  4.  7.  5.  4.  6.  6.\n",
      "  8.  4.  2.  5.  6.  3.  7.  6.  5. 10.  4.  4.  5.  7.  7.  6.  6.  4.\n",
      "  6.  9.  4.  4.  7.  4.  8.  5.  4.  3.  3.  6.  6.  1.  5.  7.  3.  7.\n",
      "  3.  4.  4.  3.  2.  2.  0.  7.  3.  7.  7.  3.  8.  6.  4.  3.  4.  4.\n",
      "  5.  2.  4.  4.  3.  7.  3.  6.  4.  2.  6.  6.  6.  7.  6.  4.  6.  6.\n",
      "  7.  8.  7.  3.  3.  3.  4.  7.  6.  5.  3.  6.  4.  2.  3.  2.  4.  6.\n",
      "  3.  4.  5.  1.  3.  6.  3.  6.  1.  6.  6.  7.  4.  7.  7.  4.  2.  8.\n",
      "  6.  3.  7.  3.  4.  4.  5.  1.  7.  1.  5.  3.  4.  8.  9.  3.  9.  8.\n",
      "  4.  0. 11.  7.  6.  7.  6.  7.  4.  5.  4.  5.  3.  6.  3.  3.  2.  5.\n",
      "  4.  6.  4.  3. 14.  5.  8.  1.  1.  4.  4.  4.  6.  4.  5.  3.  5.  6.\n",
      "  4.  5.  6.  3.  3.  8.  4.  1.  8.  5.  7.  5.  3.  2.  8.  4.  5.  4.\n",
      "  5.  8.  4.  2.  4.  3.  2.  9.  5.  6.  6.  3.  5.  8.  6.  4.  5.  1.\n",
      "  5.  8.  6.  5.  5. 10.  1.  0.  2.  3.  6. 10.  1.  6.  7.  5.  6. 13.\n",
      "  6.  4.  3.  3.  6.  3.  6.  3.  8.  4.  4.  6.  3.  5.  5.  1.  5.  7.\n",
      "  8.  9.  5.  7.  7.  6.  5.  7.  6.  2.  6.  4.  5.  6.  6.  2. 15.  8.\n",
      "  3.  5.  5.  6.  4.  4.  4.  2.  6.  7.  5.  3.  6.  7.  4.  2.  4.  7.\n",
      "  4.  5.  3.  8.  5.  3.  2.  8.  2.  4.  6.  3.  5.  1.  2.  5.  5.  4.\n",
      "  5.  5.  4.  7.  7.  4.  7.  6.  5.  6.  8.  5.  5.  4.  4.  1.  4.  3.\n",
      "  2.  4.  2.  6.  4.  6.  1.  6.  5.  5.  8.  7.  6.  3.  7.  6.  9.  5.\n",
      "  6.  1.  6.  6.  5.  6.  6.  5.  6.  2.  7.  4.  3. 13.  6.  7.  3.  4.\n",
      "  2.  8.  6.  5.  6.  4.  3.  7.  6.  4.  6.  6.  6.  6.  3.  7.  3.  7.\n",
      "  6.  2.  4.  4.  8.  6.  8.  4.  4.  5.  6.  7.  2.  8.  1.  6.  3.  9.\n",
      "  7.  1.  2.  7.  5.  4.  5. 11.  4.  3.  4.  7.  5.  7.  9.  4.  7.  7.\n",
      "  4.  7.  8.  4.  2.  7.  5.  3. 10.  3.  4.  4.  2.  2.  7.  3.  6.  7.\n",
      "  6.  6.  2.  2.  5.  7.  7.  6.  5.  3. 10.  6.  4.  4.  4.  4.  2.  6.\n",
      "  5.  7.  4.  5.  3.  8.  4.  2. 15.  3.  7.  9.  6.  3.  3.  3.  2.  3.\n",
      "  8.  8.  3.  8.  7.  3.  2.  8.  3.  5.  7.  1.  6.  5.  2.  4.  5.  2.\n",
      "  4.  4.  2.  5.  0.  6.  8.  5.  6.  3.  6.  5.  7.  3.  3.  4.  5.  7.\n",
      "  1.  6.  5.  7.  6.  6.  7.  2.  6.  3.  6.  4.  5.  5.  5.  7.  8.  3.\n",
      "  5.  4.  3.  8.  7.  3.  6.  4.  7.  4.  5.  4.  6.  1.  2.  2.  6.  3.\n",
      "  4.  7.  1.  7.  5.  6.  3.  7.  2. 10.  5.  3.  9.  7.  8.  2.  4.  5.\n",
      "  6.  5.  6.  5.  3.  4.  6.  8. 10.  7.  2.  3.  4.  5.  2.  5.  6.  6.\n",
      " 11.  4.  8.  4.  2.  4.  7.  3.  5.  1.  6.  4.  2.  5.  3.  3.  3.  3.\n",
      "  4.  3.  6.  6.  7.  6.  5.  6.  6.  9.  1.  2.  4.  4.  6.  8.  6.  4.\n",
      "  5.  5.  6.  6.  9.  4.  6.  3.  3.  6.  3.  2.  4.  6.  3.  6.  5.  6.\n",
      "  8.  5.  2.  4.  6.  7.  7.  9.  8.  4.  5.  3.  1.  4.  6.  1.  6.  2.\n",
      "  3.  5.  5.  3.  4.  6.  4.  5.  4.  7.  6.  3.  2.  4.  7.  6.  3.  4.\n",
      "  2.  5.  6.  7.  4.  8.  3.  3. 10.  3.  2.  5.  4.  5.  6.  6.  5.  2.\n",
      "  5.  2.  4.  6.  8.  4.  3.  6.  2.  1.  6.  3.  5.  9.  6.  2.  9.  4.\n",
      "  4.  6.  4.  5.  7.  5.  7.  4.  8.  4.  4.  4.  4.  7.  3.  7.  8.  2.\n",
      "  6.  2.  7.  7.  4.  3.  7.  9.  5.  5.  7.  4.  5.  3.  7.  7.  4.  3.\n",
      "  3.  3.  6.  5.  6.  8.  2.  9.  9.  4.  7.  8.  3.  4.  4.  7.  4.  2.\n",
      "  6.  8.  5.  6.  5.  3.  6.  9.  3.  1.  6.  4.  4.  3.  5.  5.  5. 12.\n",
      "  5. 10. 11.  3.  9.  3.  7.  5.  5.  5.  4.  5.  8.  9.  6.  6.  4.  6.\n",
      "  4.  6.  3.  6.  7.  5.  4.  2.  4.  6.  2.  3.  4.  6.  6.  1.  3.  7.\n",
      "  3.  7.  3.  1.  5.  5.  1.  8.  6.  8.  5.  5.  8.  6.  3.  2.  6.  4.\n",
      "  9.  6.  4.  8.  3.  8.  4.  3.  3.  4.  4.  3.  4.  5.  2.  4.  4. 10.\n",
      "  9.  7.  2.  9.  5.  4.  3.  5.  4.  5.  4.  4.  4.  4.  3.  4.  5.  7.\n",
      "  3.  5.  3.  2.  2.  5.  5.  7.  7.  2.]\n",
      "\n",
      "length/esperimenti: 1000\n"
     ]
    }
   ],
   "source": [
    "\"\"\"\n",
    "How many defaults might we expect?\n",
    "Let's say a bank made 100 mortgage loans. \n",
    "It is possible that anywhere between 0 and 100 of the loans will be defaulted upon. \n",
    "You would like to know the probability of getting a given number of defaults, \n",
    "given that the probability of a default is p = 0.05. To investigate this, you will do a simulation. \n",
    "You will perform 100 Bernoulli trials using the perform_bernoulli_trials() function \n",
    "you wrote in the previous exercise and record how many defaults we get. Here, a success is a default. \n",
    "(Remember that the word \"success\" just means that the Bernoulli trial evaluates to True, \n",
    "i.e., did the loan recipient default?) You will do this for another 100 Bernoulli trials. \n",
    "And again and again until we have tried it 1000 times. \n",
    "Then, you will plot a histogram describing the probability of the number of defaults.\n",
    "\"\"\"\n",
    "\n",
    "# Seed random number generator\n",
    "np.random.seed(42)\n",
    "\n",
    "# Initialize the number of defaults: n_defaults\n",
    "# Initialize n_defaults, an empty array, using np.empty(). \n",
    "# It should contain 1000 entries, since we are doing 1000 simulations.\n",
    "n_defaults = np.empty(1000)\n",
    "\n",
    "# Write a for loop with 1000 iterations to compute the number of defaults per 100 loans using the perform_bernoulli_trials() \n",
    "# function. It accepts two arguments: the number of trials n - in this case 100 - and the probability of success p - \n",
    "# in this case the probability of a default, which is 0.05. \n",
    "# On each iteration of the loop store the result in an entry of n_defaults.\n",
    "# Compute the number of defaults\n",
    "for i in range(1000):\n",
    "    n_defaults[i] = perform_bernoulli_trials(100, 0.05)\n",
    "\n",
    "\n",
    "# Plot a histogram of n_defaults. \n",
    "# Include the normed=True keyword argument so that the height of the bars of the histogram indicate the probability.\n",
    "# Plot the histogram with default number of bins; label your axes\n",
    "_ = plt.hist(n_defaults, density=True)\n",
    "# WARNING: The 'normed' kwarg was deprecated in Matplotlib 2.1 and will be removed in 3.1. Use 'density' instead.\n",
    "_ = plt.xlabel('number of defaults out of 100 loans')\n",
    "_ = plt.ylabel('probability')\n",
    "\n",
    "# Show the plot\n",
    "plt.show()\n",
    "\n",
    "# This is actually not an optimal way to plot a histogram when the results are known to be integers.\n",
    "\n",
    "print(\"\\nDefaults per 100 prestiti concessi(con p=5%):\")\n",
    "print(n_defaults)\n",
    "print(\"\\nlength/esperimenti:\", len(n_defaults))\n"
   ]
  },
  {
   "cell_type": "code",
   "execution_count": 17,
   "metadata": {},
   "outputs": [],
   "source": [
    "# ECDF- Empirical cumulative distributed function\n",
    "\n",
    "def ecdf(data):\n",
    "    \"\"\"Compute ECDF for a one-dimensional array of measurements.\"\"\"\n",
    "    # Number of data points: n\n",
    "    n = len(data)\n",
    "\n",
    "    # x-data for the ECDF: x\n",
    "    x = np.sort(data)\n",
    "\n",
    "    # y-data for the ECDF: y\n",
    "    y = np.arange(1, n + 1) / n\n",
    "\n",
    "    return x, y\n"
   ]
  },
  {
   "cell_type": "code",
   "execution_count": 18,
   "metadata": {},
   "outputs": [
    {
     "data": {
      "image/png": "[encoded data removed]",
      "text/plain": [
       "<Figure size 432x288 with 1 Axes>"
      ]
     },
     "metadata": {
      "needs_background": "light"
     },
     "output_type": "display_data"
    },
    {
     "name": "stdout",
     "output_type": "stream",
     "text": [
      "Probability of losing money = 0.022\n"
     ]
    }
   ],
   "source": [
    "\"\"\"\n",
    "Will the bank fail?\n",
    "Plot the number of defaults you got from the previous exercise, in your namespace as n_defaults, as a CDF. \n",
    "The ecdf() function you wrote \n",
    "\"\"\"\n",
    "\n",
    "# Compute ECDF: x, y\n",
    "x, y = ecdf(n_defaults)\n",
    "\n",
    "# Plot the CDF with labeled axes\n",
    "_ = plt.plot(x, y, marker='.', linestyle='none')\n",
    "_ = plt.xlabel('number of defaults out of 100')\n",
    "_ = plt.ylabel('CDF')\n",
    "\n",
    "# Show the plot\n",
    "plt.show()\n",
    "\n",
    "# Compute the number of 100-loan simulations with 10 or more defaults: n_lose_money\n",
    "n_lose_money = np.sum(n_defaults >= 10)\n",
    "\n",
    "# If interest rates are such that the bank will lose money if 10 or more of its loans are defaulted upon, \n",
    "# what is the probability that the bank will lose money?\n",
    "# Compute and print probability of losing money\n",
    "print('Probability of losing money =', n_lose_money / len(n_defaults))\n",
    "\n",
    "# As we might expect, we most likely get 5/100 defaults. \n",
    "# But we still have about a 2% chance of getting 10 or more defaults out of 100 loans.\n"
   ]
  },
  {
   "cell_type": "markdown",
   "metadata": {},
   "source": [
    "# Sampling out of the Binomial distribution\n",
    "\n",
    "Compute the probability mass function for the number of defaults we would expect for 100 loans as in the last section, but instead of simulating all of the Bernoulli trials, perform the sampling using np.random.binomial(). This is identical to the calculation you did in the last set of exercises using your custom-written perform_bernoulli_trials() function, but far more computationally efficient. Given this extra efficiency, we will take 10,000 samples instead of 1000. After taking the samples, plot the CDF as last time. This CDF that you are plotting is that of the Binomial distribution.\n",
    "\n",
    "In teoria della probabilità la distribuzione binomiale è una distribuzione di probabilità discreta che descrive il numero di successi in un processo di Bernoulli, ovvero la variabile aleatoria {\\displaystyle S_{n}=X_{1}+X_{2}+\\dotsb +X_{n}}S_n=X_1+X_2+\\dotsb+X_n che somma {\\displaystyle n}n variabili aleatorie indipendenti di uguale distribuzione di Bernoulli {\\displaystyle {\\mathcal {B}}(p)}{\\mathcal  {B}}(p).\n",
    "\n",
    "Esempi di casi di distribuzione binomiale sono i risultati di una serie di lanci di una stessa moneta o di una serie di estrazioni da un'urna (con reintroduzione), ognuna delle quali può fornire due soli risultati: il successo con probabilità {\\displaystyle p}p e il fallimento con probabilità {\\displaystyle q=1-p}q=1-p."
   ]
  },
  {
   "cell_type": "code",
   "execution_count": 21,
   "metadata": {},
   "outputs": [
    {
     "data": {
      "image/png": "[encoded data removed]",
      "text/plain": [
       "<Figure size 432x288 with 1 Axes>"
      ]
     },
     "metadata": {
      "needs_background": "light"
     },
     "output_type": "display_data"
    }
   ],
   "source": [
    "# Draw samples out of the Binomial distribution using np.random.binomial(). \n",
    "# You should use parameters n = 100 and p = 0.05, and set the size keyword argument to 10000.\n",
    "# Take 10,000 samples out of the binomial distribution: n_defaults\n",
    "n_defaults = np.random.binomial(100, 0.05, size=10000)\n",
    "\n",
    "# Compute CDF: x, y\n",
    "x, y = ecdf(n_defaults)\n",
    "\n",
    "# Plot the CDF with axis labels\n",
    "plt.plot(x, y, marker=\".\", linestyle='none')\n",
    "plt.xlabel('Number of defaults out of 100 loans')\n",
    "plt.ylabel('CDF')\n",
    "\n",
    "# Show the plot\n",
    "plt.show()\n"
   ]
  },
  {
   "cell_type": "code",
   "execution_count": 24,
   "metadata": {},
   "outputs": [
    {
     "data": {
      "image/png": "[encoded data removed]",
      "text/plain": [
       "<Figure size 432x288 with 1 Axes>"
      ]
     },
     "metadata": {
      "needs_background": "light"
     },
     "output_type": "display_data"
    }
   ],
   "source": [
    "# PMF - Probability Mass Function\n",
    "\n",
    "\"\"\"\n",
    "Plotting the Binomial PMF\n",
    "As mentioned in the video, plotting a nice looking PMF requires a bit of matplotlib trickery that we will not go into here. \n",
    "Instead, we will plot the PMF of the Binomial distribution as a histogram with skills you have already learned. \n",
    "The trick is setting up the edges of the bins to pass to plt.hist() via the bins keyword argument. \n",
    "We want the bins centered on the integers. \n",
    "So, the edges of the bins should be -0.5, 0.5, 1.5, 2.5, ... up to max(n_defaults) + 1.5. \n",
    "You can generate an array like this using np.arange() and then subtracting 0.5 from the array.\n",
    "\"\"\"\n",
    "\n",
    "# Compute bin edges: bins\n",
    "bins = np.arange(0, max(n_defaults) + 1.5) - 0.5\n",
    "\n",
    "# Generate histogram\n",
    "_ = plt.hist(n_defaults, density=True, bins=bins)\n",
    "\n",
    "# Label axes\n",
    "_ = plt.xlabel('number of defaults out of 100 loans')\n",
    "_ = plt.ylabel('PMF')\n",
    "\n",
    "# Show the plot\n",
    "plt.show()"
   ]
  },
  {
   "cell_type": "markdown",
   "metadata": {},
   "source": [
    "# Distribuzione di Poisson\n",
    "\n",
    "In teoria delle probabilità la distribuzione di Poisson (o poissoniana) è una distribuzione di probabilità discreta che esprime le probabilità per il numero di eventi che si verificano successivamente ed indipendentemente in un dato intervallo di tempo, sapendo che mediamente se ne verifica un numero {\\displaystyle \\lambda }\\lambda . Ad esempio, si utilizza una distribuzione di Poisson per misurare il numero di chiamate ricevute in un call-center in un determinato arco temporale, come una mattinata lavorativa. Questa distribuzione è anche nota come legge degli eventi rari.\n",
    "\n",
    "Prende il nome dal matematico francese Siméon-Denis Poisson.\n",
    "\n",
    "## Relationship between Binomial and Poisson distributions\n",
    "\n",
    "You just heard that the Poisson distribution is a limit of the Binomial distribution for rare events. This makes sense if you think about the stories. Say we do a Bernoulli trial every minute for an hour, each with a success probability of 0.1. We would do 60 trials, and the number of successes is Binomially distributed, and we would expect to get about 6 successes. This is just like the Poisson story we discussed in the video, where we get on average 6 hits on a website per hour. So, the Poisson distribution with arrival rate equal to np approximates a Binomial distribution for n Bernoulli trials with probability p of success (with n large and p small). Importantly, the Poisson distribution is often simpler to work with because it has only one parameter instead of two for the Binomial distribution."
   ]
  },
  {
   "cell_type": "code",
   "execution_count": 27,
   "metadata": {},
   "outputs": [
    {
     "name": "stdout",
     "output_type": "stream",
     "text": [
      "Poisson:      10.0243 3.168202883339386\n",
      "n = 20 Binom: 10.0381 2.224825474054089\n",
      "n = 100 Binom: 9.996 3.004294259888668\n",
      "n = 1000 Binom: 9.9609 3.1248953886490347\n"
     ]
    }
   ],
   "source": [
    "# Using the np.random.poisson() function, draw 10000 samples from a Poisson distribution with a mean of 10\n",
    "# Draw 10,000 samples out of Poisson distribution: samples_poisson\n",
    "samples_poisson = np.random.poisson(10, size=10000)\n",
    "\n",
    "# Print the mean and standard deviation\n",
    "print('Poisson:     ', np.mean(samples_poisson),\n",
    "                       np.std(samples_poisson))\n",
    "\n",
    "# Make a list of the n and p values to consider for the Binomial distribution. Choose n = [20, 100, 1000] and \n",
    "# p = [0.5, 0.1, 0.01] so that np is always 10.\n",
    "# np è la media(pensaci)\n",
    "# Specify values of n and p to consider for Binomial: n, p\n",
    "n = [20, 100, 1000]\n",
    "p = [0.5, 0.1, 0.01]\n",
    "\n",
    "# Draw 10,000 samples for each n,p pair: samples_binomial\n",
    "for i in range(3):\n",
    "    samples_binomial = np.random.binomial(n[i], p[i], size=10000)\n",
    "\n",
    "    # Print results\n",
    "    print('n =', n[i], 'Binom:', np.mean(samples_binomial),\n",
    "                                 np.std(samples_binomial))\n",
    "\n",
    "# The means are all about the same, which can be shown to be true by doing some pen-and-paper work. \n",
    "# The standard deviation of the Binomial distribution gets closer and closer to that of the Poisson distribution \n",
    "# as the probability p gets lower and lower.\n",
    "\n",
    "# When we have rare events (low p, high n), the Binomial distribution is Poisson. \n",
    "# This has a single parameter, the mean number of successes per time interval, \n",
    "# in our case the mean number of no-hitters per season.\n"
   ]
  },
  {
   "cell_type": "code",
   "execution_count": 36,
   "metadata": {},
   "outputs": [
    {
     "name": "stdout",
     "output_type": "stream",
     "text": [
      "Probability of seven or more no-hitters: 0.0069\n",
      "\n",
      "Distribuzione di probabilità di Poisson(con media uguale a 2.1826):\n",
      "[4 1 1 ... 2 3 1]\n"
     ]
    }
   ],
   "source": [
    "\"\"\"\n",
    "Was 2015 anomalous?\n",
    "1990 and 2015 featured the most no-hitters of any season of baseball (there were seven). \n",
    "Given that there are on average 251/115 no-hitters per season, what is the probability of having seven or more in a season?\n",
    "\"\"\"\n",
    "\n",
    "# Draw 10000 samples from a Poisson distribution with a mean of 251/115 and assign to n_nohitters.\n",
    "# Draw 10,000 samples out of Poisson distribution: n_nohitters\n",
    "n_nohitters = np.random.poisson(251/115, size=10000)\n",
    "\n",
    "# Determine how many of your samples had a result greater than or equal to 7 and assign to n_large.\n",
    "# Compute number of samples that are seven or greater: n_large\n",
    "n_large = np.sum(n_nohitters >= 7)\n",
    "\n",
    "# Compute the probability, p_large, of having 7 or more no-hitters by dividing n_large by the total number of samples (10000)\n",
    "# Compute probability of getting seven or more: p_large\n",
    "p_large = n_large / 10000\n",
    "\n",
    "# Print the result\n",
    "print('Probability of seven or more no-hitters:', p_large)\n",
    "\n",
    "print(f\"\\nDistribuzione di probabilità di Poisson(con media uguale a { round(251/115, 4) }):\")\n",
    "print(n_nohitters)\n"
   ]
  },
  {
   "cell_type": "code",
   "execution_count": null,
   "metadata": {},
   "outputs": [],
   "source": []
  }
 ],
 "metadata": {
  "kernelspec": {
   "display_name": "Python 3",
   "language": "python",
   "name": "python3"
  },
  "language_info": {
   "codemirror_mode": {
    "name": "ipython",
    "version": 3
   },
   "file_extension": ".py",
   "mimetype": "text/x-python",
   "name": "python",
   "nbconvert_exporter": "python",
   "pygments_lexer": "ipython3",
   "version": "3.7.3"
  }
 },
 "nbformat": 4,
 "nbformat_minor": 2
}
