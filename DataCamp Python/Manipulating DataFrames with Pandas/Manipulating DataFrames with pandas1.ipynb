{
 "cells": [
  {
   "cell_type": "code",
   "execution_count": 1,
   "metadata": {},
   "outputs": [],
   "source": [
    "import pandas as pd\n",
    "import numpy as np\n",
    "import matplotlib.pyplot as plt"
   ]
  },
  {
   "cell_type": "code",
   "execution_count": 2,
   "metadata": {},
   "outputs": [
    {
     "name": "stdout",
     "output_type": "stream",
     "text": [
      "      county state   total      Obama     Romney  winner  voters    turnout  \\\n",
      "0      Adams    PA   41973  35.482334  63.112001  Romney   61156  68.632677   \n",
      "1  Allegheny    PA  614671  56.640219  42.185820   Obama  924351  66.497575   \n",
      "2  Armstrong    PA   28322  30.696985  67.901278  Romney   42147  67.198140   \n",
      "3     Beaver    PA   80015  46.032619  52.637630  Romney  115157  69.483401   \n",
      "4    Bedford    PA   21444  22.057452  76.986570  Romney   32189  66.619031   \n",
      "\n",
      "      margin  \n",
      "0  27.629667  \n",
      "1  14.454399  \n",
      "2  37.204293  \n",
      "3   6.605012  \n",
      "4  54.929118  \n"
     ]
    }
   ],
   "source": [
    "df1 = pd.read_csv(\"2012 US election results (Pennsylvania).csv\")\n",
    "\n",
    "print(df1.head())"
   ]
  },
  {
   "cell_type": "code",
   "execution_count": 3,
   "metadata": {},
   "outputs": [
    {
     "name": "stdout",
     "output_type": "stream",
     "text": [
      "          state   total      Obama     Romney  winner  voters    turnout  \\\n",
      "county                                                                     \n",
      "Adams        PA   41973  35.482334  63.112001  Romney   61156  68.632677   \n",
      "Allegheny    PA  614671  56.640219  42.185820   Obama  924351  66.497575   \n",
      "Armstrong    PA   28322  30.696985  67.901278  Romney   42147  67.198140   \n",
      "Beaver       PA   80015  46.032619  52.637630  Romney  115157  69.483401   \n",
      "Bedford      PA   21444  22.057452  76.986570  Romney   32189  66.619031   \n",
      "\n",
      "              margin  \n",
      "county                \n",
      "Adams      27.629667  \n",
      "Allegheny  14.454399  \n",
      "Armstrong  37.204293  \n",
      "Beaver      6.605012  \n",
      "Bedford    54.929118  \n",
      "\n",
      "\n",
      "Romney\n",
      "Romney\n"
     ]
    }
   ],
   "source": [
    "df1 = pd.read_csv(\"2012 US election results (Pennsylvania).csv\", index_col=\"county\")    # Indicizzare per county\n",
    "\n",
    "print(df1.head())\n",
    "\n",
    "print(\"\\n\")\n",
    "\n",
    "print(df1.loc['Bedford', 'winner'])\n",
    "\n",
    "print(df1.winner['Bedford'])"
   ]
  },
  {
   "cell_type": "code",
   "execution_count": 4,
   "metadata": {},
   "outputs": [
    {
     "name": "stdout",
     "output_type": "stream",
     "text": [
      "True\n"
     ]
    }
   ],
   "source": [
    "# Assign the row position of election.loc['Bedford']: x\n",
    "x = 4\n",
    "\n",
    "# Assign the column position of election['winner']: y\n",
    "y = 4\n",
    "\n",
    "# Print the boolean equivalence\n",
    "print(df1.iloc[x, y] == df1.loc['Bedford', 'winner'])\n",
    "\n",
    "# Depending on the situation, you may wish to use .iloc[] over .loc[], and vice versa. \n",
    "# The important thing to realize is you can achieve the exact same results using either approach."
   ]
  },
  {
   "cell_type": "code",
   "execution_count": 5,
   "metadata": {},
   "outputs": [
    {
     "name": "stdout",
     "output_type": "stream",
     "text": [
      "          state   total      Obama     Romney  winner  voters    turnout  \\\n",
      "county                                                                     \n",
      "Adams        PA   41973  35.482334  63.112001  Romney   61156  68.632677   \n",
      "Allegheny    PA  614671  56.640219  42.185820   Obama  924351  66.497575   \n",
      "Armstrong    PA   28322  30.696985  67.901278  Romney   42147  67.198140   \n",
      "Beaver       PA   80015  46.032619  52.637630  Romney  115157  69.483401   \n",
      "Bedford      PA   21444  22.057452  76.986570  Romney   32189  66.619031   \n",
      "\n",
      "              margin  \n",
      "county                \n",
      "Adams      27.629667  \n",
      "Allegheny  14.454399  \n",
      "Armstrong  37.204293  \n",
      "Beaver      6.605012  \n",
      "Bedford    54.929118  \n",
      "\n",
      "\n",
      "\n",
      "           winner   total  voters\n",
      "county                           \n",
      "Adams      Romney   41973   61156\n",
      "Allegheny   Obama  614671  924351\n",
      "Armstrong  Romney   28322   42147\n",
      "Beaver     Romney   80015  115157\n",
      "Bedford    Romney   21444   32189\n"
     ]
    }
   ],
   "source": [
    "# Import pandas\n",
    "import pandas as pd\n",
    "\n",
    "filename = \"2012 US election results (Pennsylvania).csv\"\n",
    "\n",
    "# Read in filename and set the index: election\n",
    "df1 = pd.read_csv(filename, index_col='county')\n",
    "\n",
    "# Create a separate dataframe with the columns ['winner', 'total', 'voters']: results\n",
    "results = df1[['winner', 'total', 'voters']]\n",
    "\n",
    "# Print the output of results.head()\n",
    "print(df1.head())\n",
    "\n",
    "print(\"\\n\\n\")\n",
    "\n",
    "print(results.head())"
   ]
  },
  {
   "cell_type": "code",
   "execution_count": 6,
   "metadata": {},
   "outputs": [
    {
     "name": "stdout",
     "output_type": "stream",
     "text": [
      "             state   total      Obama     Romney  winner   voters    turnout  \\\n",
      "county                                                                         \n",
      "Perry           PA   18240  29.769737  68.591009  Romney    27245  66.948064   \n",
      "Philadelphia    PA  653598  85.224251  14.051451   Obama  1099197  59.461407   \n",
      "Pike            PA   23164  43.904334  54.882576  Romney    41840  55.363289   \n",
      "Potter          PA    7205  26.259542  72.158223  Romney    10913  66.022175   \n",
      "\n",
      "                 margin  \n",
      "county                   \n",
      "Perry         38.821272  \n",
      "Philadelphia  71.172800  \n",
      "Pike          10.978242  \n",
      "Potter        45.898681  \n",
      "             state   total      Obama     Romney  winner   voters    turnout  \\\n",
      "county                                                                         \n",
      "Potter          PA    7205  26.259542  72.158223  Romney    10913  66.022175   \n",
      "Pike            PA   23164  43.904334  54.882576  Romney    41840  55.363289   \n",
      "Philadelphia    PA  653598  85.224251  14.051451   Obama  1099197  59.461407   \n",
      "Perry           PA   18240  29.769737  68.591009  Romney    27245  66.948064   \n",
      "\n",
      "                 margin  \n",
      "county                   \n",
      "Potter        45.898681  \n",
      "Pike          10.978242  \n",
      "Philadelphia  71.172800  \n",
      "Perry         38.821272  \n"
     ]
    }
   ],
   "source": [
    "election = df1         # Assegnazione di DataFrame\n",
    "\n",
    "# Slice the row labels 'Perry' to 'Potter': p_counties\n",
    "p_counties = election.loc['Perry':'Potter', :]\n",
    "\n",
    "# Print the p_counties DataFrame\n",
    "print(p_counties)\n",
    "\n",
    "# Slice the row labels 'Potter' to 'Perry' in reverse order: p_counties_rev\n",
    "p_counties_rev = election.loc['Potter':'Perry':-1, :]\n",
    "\n",
    "# Print the p_counties_rev DataFrame\n",
    "print(p_counties_rev)"
   ]
  },
  {
   "cell_type": "code",
   "execution_count": 7,
   "metadata": {},
   "outputs": [
    {
     "name": "stdout",
     "output_type": "stream",
     "text": [
      "          state   total      Obama\n",
      "county                            \n",
      "Adams        PA   41973  35.482334\n",
      "Allegheny    PA  614671  56.640219\n",
      "Armstrong    PA   28322  30.696985\n",
      "Beaver       PA   80015  46.032619\n",
      "Bedford      PA   21444  22.057452\n",
      "               Obama     Romney  winner\n",
      "county                                 \n",
      "Adams      35.482334  63.112001  Romney\n",
      "Allegheny  56.640219  42.185820   Obama\n",
      "Armstrong  30.696985  67.901278  Romney\n",
      "Beaver     46.032619  52.637630  Romney\n",
      "Bedford    22.057452  76.986570  Romney\n",
      "              Romney  winner  voters    turnout     margin\n",
      "county                                                    \n",
      "Adams      63.112001  Romney   61156  68.632677  27.629667\n",
      "Allegheny  42.185820   Obama  924351  66.497575  14.454399\n",
      "Armstrong  67.901278  Romney   42147  67.198140  37.204293\n",
      "Beaver     52.637630  Romney  115157  69.483401   6.605012\n",
      "Bedford    76.986570  Romney   32189  66.619031  54.929118\n"
     ]
    }
   ],
   "source": [
    "# Slice the columns from the starting column to 'Obama': left_columns\n",
    "left_columns = election.loc[:, :\"Obama\"]\n",
    "\n",
    "# Print the output of left_columns.head()\n",
    "print(left_columns.head())\n",
    "\n",
    "# Slice the columns from 'Obama' to 'winner': middle_columns\n",
    "middle_columns = election.loc[:, \"Obama\": \"winner\"]\n",
    "\n",
    "# Print the output of middle_columns.head()\n",
    "print(middle_columns.head())\n",
    "\n",
    "# Slice the columns from 'Romney' to the end: 'right_columns'\n",
    "right_columns = election.loc[:, \"Romney\":]\n",
    "\n",
    "# Print the output of right_columns.head()\n",
    "print(right_columns.head())"
   ]
  },
  {
   "cell_type": "code",
   "execution_count": 8,
   "metadata": {},
   "outputs": [
    {
     "name": "stdout",
     "output_type": "stream",
     "text": [
      "              winner      Obama     Romney\n",
      "county                                    \n",
      "Philadelphia   Obama  85.224251  14.051451\n",
      "Centre        Romney  48.948416  48.977486\n",
      "Fulton        Romney  21.096291  77.748861\n"
     ]
    }
   ],
   "source": [
    "# Subselecting DataFrames with lists\n",
    "# You can use lists to select specific row and column labels with the .loc[] accessor.\n",
    "\n",
    "# Create the list of row labels: rows\n",
    "rows = ['Philadelphia', 'Centre', 'Fulton']\n",
    "\n",
    "# Create the list of column labels: cols\n",
    "cols = ['winner', 'Obama', 'Romney']\n",
    "\n",
    "# Create the new DataFrame: three_counties\n",
    "three_counties = election.loc[rows, cols]                                # Attenzione all'uso delle [[...], [...]]\n",
    "\n",
    "# Print the three_counties DataFrame\n",
    "print(three_counties)"
   ]
  },
  {
   "cell_type": "code",
   "execution_count": 9,
   "metadata": {},
   "outputs": [
    {
     "name": "stdout",
     "output_type": "stream",
     "text": [
      "          state   total      Obama     Romney  winner  voters    turnout  \\\n",
      "county                                                                     \n",
      "Adams        PA   41973  35.482334  63.112001  Romney   61156  68.632677   \n",
      "Allegheny    PA  614671  56.640219  42.185820   Obama  924351  66.497575   \n",
      "Armstrong    PA   28322  30.696985  67.901278  Romney   42147  67.198140   \n",
      "Beaver       PA   80015  46.032619  52.637630  Romney  115157  69.483401   \n",
      "Bedford      PA   21444  22.057452  76.986570  Romney   32189  66.619031   \n",
      "\n",
      "              margin  \n",
      "county                \n",
      "Adams      27.629667  \n",
      "Allegheny  14.454399  \n",
      "Armstrong  37.204293  \n",
      "Beaver      6.605012  \n",
      "Bedford    54.929118  \n",
      "\n",
      "\n",
      "          turnout      Obama     margin state\n",
      "county                                       \n",
      "Beaver  69.483401  46.032619   6.605012    PA\n",
      "Adams   68.632677  35.482334  27.629667    PA\n"
     ]
    }
   ],
   "source": [
    "print(election.head())\n",
    "\n",
    "subset_election = election.loc[[\"Beaver\", \"Adams\"], [\"turnout\", \"Obama\", \"margin\", \"state\"]]\n",
    "\n",
    "print(\"\\n\")\n",
    "print(subset_election)"
   ]
  },
  {
   "cell_type": "code",
   "execution_count": 10,
   "metadata": {},
   "outputs": [
    {
     "name": "stdout",
     "output_type": "stream",
     "text": [
      "          state   total      Obama     Romney  winner  voters    turnout  \\\n",
      "county                                                                     \n",
      "Adams        PA   41973  35.482334  63.112001  Romney   61156  68.632677   \n",
      "Allegheny    PA  614671  56.640219  42.185820   Obama  924351  66.497575   \n",
      "Armstrong    PA   28322  30.696985  67.901278  Romney   42147  67.198140   \n",
      "Beaver       PA   80015  46.032619  52.637630  Romney  115157  69.483401   \n",
      "Bedford      PA   21444  22.057452  76.986570  Romney   32189  66.619031   \n",
      "\n",
      "              margin  \n",
      "county                \n",
      "Adams      27.629667  \n",
      "Allegheny  14.454399  \n",
      "Armstrong  37.204293  \n",
      "Beaver      6.605012  \n",
      "Bedford    54.929118  \n",
      "Index(['Adams', 'Allegheny', 'Armstrong', 'Beaver', 'Bedford', 'Berks',\n",
      "       'Blair', 'Bradford', 'Bucks', 'Butler', 'Cambria', 'Cameron', 'Carbon',\n",
      "       'Centre', 'Chester', 'Clarion', 'Clearfield', 'Clinton', 'Columbia',\n",
      "       'Crawford', 'Cumberland', 'Dauphin', 'Delaware', 'Elk', 'Erie',\n",
      "       'Fayette', 'Forest', 'Franklin', 'Fulton', 'Greene', 'Huntingdon',\n",
      "       'Indiana', 'Jefferson', 'Juniata', 'Lackawanna', 'Lancaster',\n",
      "       'Lawrence', 'Lebanon', 'Lehigh', 'Luzerne', 'Lycoming', 'McKean',\n",
      "       'Mercer', 'Mifflin', 'Monroe', 'Montgomery', 'Montour', 'Northampton',\n",
      "       'Northumberland', 'Perry', 'Philadelphia', 'Pike', 'Potter',\n",
      "       'Schuylkill', 'Snyder', 'Somerset', 'Sullivan', 'Susquehanna', 'Tioga',\n",
      "       'Union', 'Venango', 'Warren', 'Washington', 'Wayne', 'Westmoreland',\n",
      "       'Wyoming', 'York'],\n",
      "      dtype='object', name='county') \n",
      "\n",
      "\n",
      "             state   total      Obama     Romney  winner  voters    turnout  \\\n",
      "county                                                                        \n",
      "Bucks           PA  319407  49.966970  48.801686   Obama  435606  73.324748   \n",
      "Butler          PA   88924  31.920516  66.816607  Romney  122762  72.436096   \n",
      "Chester         PA  248295  49.228539  49.650617  Romney  337822  73.498766   \n",
      "Forest          PA    2308  38.734835  59.835355  Romney    3232  71.410891   \n",
      "Franklin        PA   62802  30.110506  68.583803  Romney   87406  71.850903   \n",
      "Montgomery      PA  401787  56.637223  42.286834   Obama  551105  72.905708   \n",
      "Westmoreland    PA  168709  37.567646  61.306154  Romney  238006  70.884347   \n",
      "\n",
      "                 margin  \n",
      "county                   \n",
      "Bucks          1.165284  \n",
      "Butler        34.896091  \n",
      "Chester        0.422079  \n",
      "Forest        21.100520  \n",
      "Franklin      38.473297  \n",
      "Montgomery    14.350390  \n",
      "Westmoreland  23.738508  \n",
      "(67, 8)\n",
      "(7, 8)\n"
     ]
    }
   ],
   "source": [
    "# we have provided the Pennsylvania election results and included a column called 'turnout' \n",
    "# that contains the percentage of voter turnout per county. \n",
    "# Your job is to prepare a boolean array to select all of the rows and columns where voter turnout exceeded 70%.\n",
    "\n",
    "# the DataFrame is available to you as election with the index set to 'county'\n",
    "\n",
    "print(election.head())\n",
    "print(election.index, \"\\n\\n\")               # DataFrame indicizzato per 'county'\n",
    "\n",
    "# Create the boolean array: high_turnout\n",
    "high_turnout = election.turnout > 70\n",
    "\n",
    "# Filter the election DataFrame with the high_turnout array: high_turnout_df\n",
    "high_turnout_df = election[high_turnout]\n",
    "\n",
    "# Print the high_turnout_results DataFrame\n",
    "print(high_turnout_df)\n",
    "\n",
    "print(election.shape)\n",
    "print(high_turnout_df.shape)"
   ]
  },
  {
   "cell_type": "code",
   "execution_count": 11,
   "metadata": {},
   "outputs": [
    {
     "name": "stdout",
     "output_type": "stream",
     "text": [
      "<class 'pandas.core.frame.DataFrame'>\n",
      "Index: 67 entries, Adams to York\n",
      "Data columns (total 8 columns):\n",
      "state      67 non-null object\n",
      "total      67 non-null int64\n",
      "Obama      67 non-null float64\n",
      "Romney     67 non-null float64\n",
      "winner     64 non-null object\n",
      "voters     67 non-null int64\n",
      "turnout    67 non-null float64\n",
      "margin     67 non-null float64\n",
      "dtypes: float64(4), int64(2), object(2)\n",
      "memory usage: 7.2+ KB\n",
      "None\n"
     ]
    },
    {
     "name": "stderr",
     "output_type": "stream",
     "text": [
      "C:\\Users\\Pasquale\\Anaconda3\\lib\\site-packages\\ipykernel_launcher.py:17: SettingWithCopyWarning: \n",
      "A value is trying to be set on a copy of a slice from a DataFrame\n",
      "\n",
      "See the caveats in the documentation: http://pandas.pydata.org/pandas-docs/stable/indexing.html#indexing-view-versus-copy\n"
     ]
    }
   ],
   "source": [
    "# Filtering columns using other columns\n",
    "# The election results DataFrame has a column labeled 'margin' which expresses the number of extra votes \n",
    "# the winner received over the losing candidate. This number is given as a percentage of the total votes cast. \n",
    "# It is reasonable to assume that in counties where this margin was less than 1%, the results would be too-close-to-call.\n",
    "\n",
    "# Your job is to use boolean selection to filter the rows where the margin was less than 1. \n",
    "# You'll then convert these rows of the 'winner' column to np.nan to indicate that these results are too close \n",
    "# to declare a winner.\n",
    "\n",
    "# Import numpy\n",
    "import numpy as np\n",
    "\n",
    "# Create the boolean array: too_close\n",
    "too_close = election.margin < 1\n",
    "\n",
    "# Assign np.nan to the 'winner' column where the results were too close to call\n",
    "election.winner[too_close] = np.nan\n",
    "\n",
    "# Print the output of election.info()\n",
    "print(election.info())\n",
    "\n",
    "# In certain scenarios, it may be necessary to remove rows and columns with missing data from a DataFrame. \n",
    "# The .dropna() method is used to perform this action."
   ]
  },
  {
   "cell_type": "code",
   "execution_count": 16,
   "metadata": {},
   "outputs": [
    {
     "name": "stdout",
     "output_type": "stream",
     "text": [
      "          state   total      Obama     Romney  winner  voters    turnout  \\\n",
      "county                                                                     \n",
      "Adams        PA   41973  35.482334  63.112001  Romney   61156  68.632677   \n",
      "Allegheny    PA  614671  56.640219  42.185820   Obama  924351  66.497575   \n",
      "Armstrong    PA   28322  30.696985  67.901278  Romney   42147  67.198140   \n",
      "Beaver       PA   80015  46.032619  52.637630  Romney  115157  69.483401   \n",
      "Bedford      PA   21444  22.057452  76.986570  Romney   32189  66.619031   \n",
      "\n",
      "              margin color  \n",
      "county                      \n",
      "Adams      27.629667   red  \n",
      "Allegheny  14.454399  blue  \n",
      "Armstrong  37.204293   red  \n",
      "Beaver      6.605012   red  \n",
      "Bedford    54.929118   red  \n"
     ]
    }
   ],
   "source": [
    "# Create the dictionary: red_vs_blue\n",
    "red_vs_blue = {\n",
    "    \"Obama\":\"blue\",\n",
    "    \"Romney\":\"red\"\n",
    "}\n",
    "\n",
    "# Use the dictionary to map the 'winner' column to the new column: election['color']\n",
    "election['color'] = election['winner'].map(red_vs_blue)\n",
    "\n",
    "# Print the output of election.head()\n",
    "print(election.head())"
   ]
  },
  {
   "cell_type": "code",
   "execution_count": 13,
   "metadata": {},
   "outputs": [
    {
     "name": "stdout",
     "output_type": "stream",
     "text": [
      "       Date  Max TemperatureF  Mean TemperatureF  Min TemperatureF  \\\n",
      "0  2013-1-1                32                 28                21   \n",
      "1  2013-1-2                25                 21                17   \n",
      "2  2013-1-3                32                 24                16   \n",
      "3  2013-1-4                30                 28                27   \n",
      "4  2013-1-5                34                 30                25   \n",
      "\n",
      "   Max Dew PointF  Mean Dew PointF  Min DewpointF  Max Humidity  \\\n",
      "0              30               27             16           100   \n",
      "1              14               12             10            77   \n",
      "2              19               15              9            77   \n",
      "3              21               19             17            75   \n",
      "4              23               20             16            75   \n",
      "\n",
      "   Mean Humidity  Min Humidity  ...  Max VisibilityMiles  \\\n",
      "0             89            77  ...                   10   \n",
      "1             67            55  ...                   10   \n",
      "2             67            56  ...                   10   \n",
      "3             68            59  ...                   10   \n",
      "4             68            61  ...                   10   \n",
      "\n",
      "   Mean VisibilityMiles  Min VisibilityMiles  Max Wind SpeedMPH  \\\n",
      "0                     6                    2                 10   \n",
      "1                    10                   10                 14   \n",
      "2                    10                   10                 17   \n",
      "3                    10                    6                 23   \n",
      "4                    10                   10                 16   \n",
      "\n",
      "   Mean Wind SpeedMPH  Max Gust SpeedMPH  PrecipitationIn   CloudCover  \\\n",
      "0                   8                NaN             0.00            8   \n",
      "1                   5                NaN             0.00            4   \n",
      "2                   8               26.0             0.00            3   \n",
      "3                  16               32.0             0.00            4   \n",
      "4                  10               23.0             0.21            5   \n",
      "\n",
      "   Events  WindDirDegrees  \n",
      "0    Snow             277  \n",
      "1     NaN             272  \n",
      "2     NaN             229  \n",
      "3     NaN             250  \n",
      "4     NaN             221  \n",
      "\n",
      "[5 rows x 23 columns]\n",
      "RangeIndex(start=0, stop=365, step=1)\n"
     ]
    }
   ],
   "source": [
    "\"\"\"\n",
    "Using apply() to transform a column\n",
    "\n",
    "The .apply() method can be used on a pandas DataFrame to apply an arbitrary Python function to every element.\n",
    "\"\"\"\n",
    "\n",
    "df_weather = pd.read_csv(\"weather_data.csv\")\n",
    "\n",
    "print(df_weather.head())\n",
    "\n",
    "print(df_weather.index)"
   ]
  },
  {
   "cell_type": "code",
   "execution_count": 15,
   "metadata": {},
   "outputs": [
    {
     "name": "stdout",
     "output_type": "stream",
     "text": [
      "   Mean TemperatureC  Mean Dew PointC\n",
      "0          -2.222222        -2.777778\n",
      "1          -6.111111       -11.111111\n",
      "2          -4.444444        -9.444444\n",
      "3          -2.222222        -7.222222\n",
      "4          -1.111111        -6.666667\n"
     ]
    }
   ],
   "source": [
    "# Write a function to convert degrees Fahrenheit to degrees Celsius: to_celsius\n",
    "def to_celsius(F):\n",
    "    return 5/9*(F - 32)\n",
    "\n",
    "# Apply the function over  and 'Mean Dew PointF': df_celsius\n",
    "df_celsius = df_weather[['Mean TemperatureF','Mean Dew PointF']].apply(to_celsius)\n",
    "\n",
    "# Reassign the column labels of df_celsius\n",
    "df_celsius.columns = ['Mean TemperatureC', 'Mean Dew PointC']\n",
    "\n",
    "# Print the output of df_celsius.head()\n",
    "print(df_celsius.head())"
   ]
  },
  {
   "cell_type": "markdown",
   "metadata": {},
   "source": [
    "## Using vectorized functions\n",
    "When performance is paramount, you should avoid using .apply() and .map() because those constructs perform Python for-loops over the data stored in a pandas Series or DataFrame. By using vectorized functions instead, you can loop over the data at the same speed as compiled code (C, Fortran, etc.)! NumPy, SciPy and pandas come with a variety of vectorized functions (called Universal Functions or UFuncs in NumPy).\n",
    "\n",
    "You can even write your own vectorized functions, but for now we will focus on the ones distributed by NumPy and pandas.\n",
    "\n",
    "In this exercise you're going to import the zscore function from scipy.stats and use it to compute the deviation in voter turnout in Pennsylvania from the mean in fractions of the standard deviation. In statistics, the z-score is the number of standard deviations by which an observation is above the mean - so if it is negative, it means the observation is below the mean."
   ]
  },
  {
   "cell_type": "code",
   "execution_count": 19,
   "metadata": {},
   "outputs": [
    {
     "name": "stdout",
     "output_type": "stream",
     "text": [
      "          state   total      Obama     Romney  winner  voters    turnout  \\\n",
      "county                                                                     \n",
      "Adams        PA   41973  35.482334  63.112001  Romney   61156  68.632677   \n",
      "Allegheny    PA  614671  56.640219  42.185820   Obama  924351  66.497575   \n",
      "Armstrong    PA   28322  30.696985  67.901278  Romney   42147  67.198140   \n",
      "Beaver       PA   80015  46.032619  52.637630  Romney  115157  69.483401   \n",
      "Bedford      PA   21444  22.057452  76.986570  Romney   32189  66.619031   \n",
      "\n",
      "              margin color  turnout_zscore  \n",
      "county                                      \n",
      "Adams      27.629667   red        0.853734  \n",
      "Allegheny  14.454399  blue        0.439846  \n",
      "Armstrong  37.204293   red        0.575650  \n",
      "Beaver      6.605012   red        1.018647  \n",
      "Bedford    54.929118   red        0.463391  \n"
     ]
    }
   ],
   "source": [
    "print(election.head())\n"
   ]
  },
  {
   "cell_type": "code",
   "execution_count": 27,
   "metadata": {},
   "outputs": [
    {
     "name": "stdout",
     "output_type": "stream",
     "text": [
      "<class 'numpy.ndarray'>\n",
      "          state   total      Obama     Romney  winner  voters    turnout  \\\n",
      "county                                                                     \n",
      "Adams        PA   41973  35.482334  63.112001  Romney   61156  68.632677   \n",
      "Allegheny    PA  614671  56.640219  42.185820   Obama  924351  66.497575   \n",
      "Armstrong    PA   28322  30.696985  67.901278  Romney   42147  67.198140   \n",
      "Beaver       PA   80015  46.032619  52.637630  Romney  115157  69.483401   \n",
      "Bedford      PA   21444  22.057452  76.986570  Romney   32189  66.619031   \n",
      "\n",
      "              margin color  turnout_zscore  \n",
      "county                                      \n",
      "Adams      27.629667   red        0.853734  \n",
      "Allegheny  14.454399  blue        0.439846  \n",
      "Armstrong  37.204293   red        0.575650  \n",
      "Beaver      6.605012   red        1.018647  \n",
      "Bedford    54.929118   red        0.463391  \n",
      "\n",
      "[ 0.85373443  0.43984633  0.57565034  1.01864668  0.46339055  0.18992961\n",
      " -1.62978766 -1.67811834  1.76328918  1.59102463  0.4115648  -2.00690534\n",
      " -0.41140691 -0.64265536  1.79702245 -0.21292049 -0.36907863 -1.76358992\n",
      " -0.63882099 -0.72673199  1.02421347  0.83473876  0.86101802 -0.58691702\n",
      " -0.09392156 -2.26015319  1.39228937  1.47758532  0.30389161 -0.71004763\n",
      " -0.62292272 -0.22739249 -0.8586792   1.11463935  0.14408255  1.08675066\n",
      " -0.25721482  0.3426399  -0.04498491 -0.09489986  0.71129079 -1.19644405\n",
      " -0.06680477  0.48399098 -1.89069251  1.68205856 -1.28403638 -0.79798793\n",
      " -1.33971045  0.52717328 -0.9241102  -1.71852766  0.34769042  0.46386596\n",
      "  0.99379745  0.21159213  0.95701947  0.83419812 -0.56442943  0.65096061\n",
      " -0.16243951 -1.4886646  -0.18238803  0.02514726  1.29021923  0.14757638\n",
      "  0.44085587]\n",
      "-2.0729686623971208e-15\n",
      "-0.0\n",
      "-0.0\n"
     ]
    }
   ],
   "source": [
    "# Import zscore from scipy.stats\n",
    "from scipy.stats import zscore\n",
    "\n",
    "# Call zscore with election['turnout'] as input: turnout_zscore\n",
    "turnout_zscore = zscore(election['turnout'])\n",
    "\n",
    "# Print the type of turnout_zscore\n",
    "print(type(turnout_zscore))\n",
    "\n",
    "# Assign turnout_zscore to a new column: election['turnout_zscore']\n",
    "election['turnout_zscore'] = turnout_zscore\n",
    "\n",
    "# Print the output of election.head()\n",
    "print(election.head())\n",
    "\n",
    "print()\n",
    "\n",
    "print(turnout_zscore)\n",
    "print(turnout_zscore.mean())\n",
    "print(round(turnout_zscore.mean()))\n",
    "print(round(turnout_zscore.mean(), 2))"
   ]
  },
  {
   "cell_type": "markdown",
   "metadata": {},
   "source": [
    "# zscore function from scipy.stats \n",
    "\n",
    "Use it to compute the deviation in voter turnout in Pennsylvania from the mean in fractions of the standard deviation. In statistics, the z-score is the number of standard deviations by which an observation is above the mean - so if it is negative, it means the observation is below the mean.\n",
    "\n",
    "# Z = (x - mu)/sigma"
   ]
  },
  {
   "cell_type": "code",
   "execution_count": 30,
   "metadata": {},
   "outputs": [
    {
     "name": "stdout",
     "output_type": "stream",
     "text": [
      "Media turnout: 64.22856377033182 \n",
      "\n",
      "                  turnout  turnout_zscore\n",
      "county                                   \n",
      "Adams           68.632677        0.853734\n",
      "Allegheny       66.497575        0.439846\n",
      "Armstrong       67.198140        0.575650\n",
      "Beaver          69.483401        1.018647\n",
      "Bedford         66.619031        0.463391\n",
      "Berks           65.208343        0.189930\n",
      "Blair           55.821067       -1.629788\n",
      "Bradford        55.571746       -1.678118\n",
      "Bucks           73.324748        1.763289\n",
      "Butler          72.436096        1.591025\n",
      "Cambria         66.351681        0.411565\n",
      "Cameron         53.875651       -2.006905\n",
      "Carbon          62.106261       -0.411407\n",
      "Centre          60.913333       -0.642655\n",
      "Chester         73.498766        1.797022\n",
      "Clarion         63.130182       -0.212920\n",
      "Clearfield      62.324618       -0.369079\n",
      "Clinton         55.130829       -1.763590\n",
      "Columbia        60.933113       -0.638821\n",
      "Crawford        60.479611       -0.726732\n",
      "Cumberland      69.512118        1.024213\n",
      "Dauphin         68.534685        0.834739\n",
      "Delaware        68.670251        0.861018\n",
      "Elk             61.200867       -0.586917\n",
      "Erie            63.744056       -0.093922\n",
      "Fayette         52.569235       -2.260153\n",
      "Forest          71.410891        1.392289\n",
      "Franklin        71.850903        1.477585\n",
      "Fulton          65.796233        0.303892\n",
      "Greene          60.565680       -0.710048\n",
      "...                   ...             ...\n",
      "Lebanon         65.996122        0.342640\n",
      "Lehigh          63.996503       -0.044985\n",
      "Luzerne         63.739009       -0.094900\n",
      "Lycoming        67.897861        0.711291\n",
      "McKean          58.056533       -1.196444\n",
      "Mercer          63.883942       -0.066805\n",
      "Mifflin         66.725302        0.483991\n",
      "Monroe          54.475151       -1.890693\n",
      "Montgomery      72.905708        1.682059\n",
      "Montour         57.604675       -1.284036\n",
      "Northampton     60.112027       -0.797988\n",
      "Northumberland  57.317472       -1.339710\n",
      "Perry           66.948064        0.527173\n",
      "Philadelphia    59.461407       -0.924110\n",
      "Pike            55.363289       -1.718528\n",
      "Potter          66.022175        0.347690\n",
      "Schuylkill      66.621484        0.463866\n",
      "Snyder          69.355213        0.993797\n",
      "Somerset        65.320093        0.211592\n",
      "Sullivan        69.165488        0.957019\n",
      "Susquehanna     68.531896        0.834198\n",
      "Tioga           61.316872       -0.564429\n",
      "Union           67.586639        0.650961\n",
      "Venango         63.390596       -0.162440\n",
      "Warren          56.549071       -1.488665\n",
      "Washington      63.287689       -0.182388\n",
      "Wayne           64.358290        0.025147\n",
      "Westmoreland    70.884347        1.290219\n",
      "Wyoming         64.989858        0.147576\n",
      "York            66.502783        0.440856\n",
      "\n",
      "[67 rows x 2 columns]\n"
     ]
    }
   ],
   "source": [
    "turnout_mean = election['turnout'].mean()\n",
    "\n",
    "print(\"Media turnout:\", turnout_mean, \"\\n\")\n",
    "\n",
    "print(election[[\"turnout\", \"turnout_zscore\"]])"
   ]
  },
  {
   "cell_type": "code",
   "execution_count": 35,
   "metadata": {},
   "outputs": [
    {
     "data": {
      "image/png": "[encoded data removed]",
      "text/plain": [
       "<Figure size 432x288 with 1 Axes>"
      ]
     },
     "metadata": {
      "needs_background": "light"
     },
     "output_type": "display_data"
    },
    {
     "data": {
      "text/plain": [
       "-0.31523199987676737"
      ]
     },
     "execution_count": 35,
     "metadata": {},
     "output_type": "execute_result"
    }
   ],
   "source": [
    "election['turnout_zscore']\n",
    "\n",
    "election['turnout_zscore'].hist(bins=15)\n",
    "plt.show()\n",
    "\n",
    "election['turnout_zscore'].skew()              # Indice di skewness\n"
   ]
  },
  {
   "cell_type": "code",
   "execution_count": null,
   "metadata": {},
   "outputs": [],
   "source": []
  }
 ],
 "metadata": {
  "kernelspec": {
   "display_name": "Python 3",
   "language": "python",
   "name": "python3"
  },
  "language_info": {
   "codemirror_mode": {
    "name": "ipython",
    "version": 3
   },
   "file_extension": ".py",
   "mimetype": "text/x-python",
   "name": "python",
   "nbconvert_exporter": "python",
   "pygments_lexer": "ipython3",
   "version": "3.7.3"
  }
 },
 "nbformat": 4,
 "nbformat_minor": 2
}
