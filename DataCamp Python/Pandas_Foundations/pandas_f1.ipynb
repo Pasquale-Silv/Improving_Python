{
 "cells": [
  {
   "cell_type": "code",
   "execution_count": null,
   "metadata": {},
   "outputs": [],
   "source": [
    "\"\"\"\n",
    "Zip lists to build a DataFrame\n",
    "\n",
    "In this exercise, \n",
    "you're going to make a pandas DataFrame of the top three countries to win gold medals since 1896 by first building a dictionary. \n",
    "list_keys contains the column names 'Country' and 'Total'. \n",
    "list_values contains the full names of each country and the number of gold medals awarded. The values have been taken from Wikipedia.\n",
    "\n",
    "Your job is to use these lists to construct a list of tuples, use the list of tuples to construct a dictionary, \n",
    "and then use that dictionary to construct a DataFrame. In doing so, you'll make use of the list(), zip(), dict() and pd.DataFrame() functions.\n",
    "\n",
    "Note: The zip() function in Python 3 and above returns a special zip object, which is essentially a GENERATOR. \n",
    "      To convert this zip object into a list, you'll need to use list(). \n",
    "\"\"\""
   ]
  },
  {
   "cell_type": "code",
   "execution_count": 31,
   "metadata": {},
   "outputs": [
    {
     "name": "stdout",
     "output_type": "stream",
     "text": [
      "<zip object at 0x000001896C96AE08>\n",
      "[('Country', ['United States', 'Soviet Union', 'United Kingdom']), ('Total medals', [1118, 473, 273])]\n",
      "{'Country': ['United States', 'Soviet Union', 'United Kingdom'], 'Total medals': [1118, 473, 273]}\n",
      "\n",
      "Pandas DataFrame from a dict:\n",
      "\n",
      "          Country  Total medals\n",
      "0   United States          1118\n",
      "1    Soviet Union           473\n",
      "2  United Kingdom           273\n"
     ]
    }
   ],
   "source": [
    "import pandas as pd\n",
    "import numpy as np\n",
    "\n",
    "list_keys = ['Country', 'Total medals']\n",
    "list_values = [['United States', 'Soviet Union', 'United Kingdom'], [1118, 473, 273]]\n",
    "\n",
    "# Zip the 2 lists together into one list of (key,value) tuples: zipped\n",
    "zipped = zip(list_keys, list_values)           # GENERATOR\n",
    "zipped_list = list(zipped)\n",
    "\n",
    "# Inspect the list using print()\n",
    "print(zipped)\n",
    "print(zipped_list)\n",
    "\n",
    "# Build a dictionary with the zipped list: data\n",
    "data = dict(zipped_list)\n",
    "print(data)\n",
    "\n",
    "print(\"\\nPandas DataFrame from a dict:\\n\")\n",
    "# Build and inspect a DataFrame from the dictionary: df\n",
    "df = pd.DataFrame(data)\n",
    "print(df)"
   ]
  },
  {
   "cell_type": "code",
   "execution_count": 32,
   "metadata": {},
   "outputs": [
    {
     "name": "stdout",
     "output_type": "stream",
     "text": [
      "0    1118\n",
      "1     473\n",
      "2     273\n",
      "Name: Total medals, dtype: int64\n",
      "\n",
      "np_vals has type <class 'numpy.ndarray'>\n",
      "np_vals_log10 has type <class 'numpy.ndarray'>\n",
      "df has type <class 'pandas.core.frame.DataFrame'>\n",
      "df_log10 has type <class 'pandas.core.series.Series'>\n"
     ]
    },
    {
     "data": {
      "text/plain": [
       "[None, None, None, None]"
      ]
     },
     "execution_count": 32,
     "metadata": {},
     "output_type": "execute_result"
    }
   ],
   "source": [
    "df1 = df['Total medals']\n",
    "print(df1)\n",
    "\n",
    "print()\n",
    "\n",
    "# Create array of DataFrame values: np_vals\n",
    "np_vals = df1.values\n",
    "\n",
    "# Create new array of base 10 logarithm values: np_vals_log10\n",
    "np_vals_log10 = np.log10(np_vals)\n",
    "\n",
    "# Create array of new DataFrame by passing df to np.log10(): df_log10\n",
    "df_log10 = np.log10(df1)\n",
    "\n",
    "# Print original and new data containers\n",
    "[print(x, 'has type', type(eval(x))) for x in ['np_vals', 'np_vals_log10', 'df', 'df_log10']]"
   ]
  },
  {
   "cell_type": "code",
   "execution_count": 34,
   "metadata": {},
   "outputs": [
    {
     "name": "stdout",
     "output_type": "stream",
     "text": [
      "            Paese  Medaglie ottenute\n",
      "0   United States               1118\n",
      "1    Soviet Union                473\n",
      "2  United Kingdom                273\n",
      "<class 'pandas.core.frame.DataFrame'>\n",
      "            Paese  Medaglie ottenute\n",
      "0   United States               1118\n",
      "1    Soviet Union                473\n",
      "2  United Kingdom                273\n",
      "\n",
      "            Paese  Medaglie ottenute\n",
      "0   United States               1118\n",
      "1    Soviet Union                473\n",
      "2  United Kingdom                273\n",
      "\n",
      "            Paese  Medaglie ottenute\n",
      "0   United States               1118\n",
      "1    Soviet Union                473\n",
      "2  United Kingdom                273\n"
     ]
    }
   ],
   "source": [
    "print(df)\n",
    "df_to_modify = df\n",
    "print(type(df_to_modify))\n",
    "print(df_to_modify)\n",
    "\n",
    "# Labeling your data\n",
    "# You can use the DataFrame attribute df.columns to view and assign new string labels to columns in a pandas DataFrame.\n",
    "\n",
    "# Build a list of labels: list_labels\n",
    "list_labels = ['Paese', 'Medaglie ottenute']\n",
    "\n",
    "# Assign the list of labels to the columns attribute: df.columns\n",
    "df_to_modify.columns = list_labels\n",
    "\n",
    "print()\n",
    "\n",
    "print(df)\n",
    "print()\n",
    "print(df_to_modify)          # Come le liste viene passato per riferimento, saranno modificati entrambi i DataFrame DF."
   ]
  },
  {
   "cell_type": "code",
   "execution_count": null,
   "metadata": {},
   "outputs": [],
   "source": []
  }
 ],
 "metadata": {
  "kernelspec": {
   "display_name": "Python 3",
   "language": "python",
   "name": "python3"
  },
  "language_info": {
   "codemirror_mode": {
    "name": "ipython",
    "version": 3
   },
   "file_extension": ".py",
   "mimetype": "text/x-python",
   "name": "python",
   "nbconvert_exporter": "python",
   "pygments_lexer": "ipython3",
   "version": "3.7.3"
  }
 },
 "nbformat": 4,
 "nbformat_minor": 2
}
