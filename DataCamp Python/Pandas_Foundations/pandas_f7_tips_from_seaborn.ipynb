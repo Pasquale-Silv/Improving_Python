{
 "cells": [
  {
   "cell_type": "code",
   "execution_count": 3,
   "metadata": {},
   "outputs": [
    {
     "name": "stdout",
     "output_type": "stream",
     "text": [
      "<class 'pandas.core.frame.DataFrame'>\n",
      "RangeIndex: 244 entries, 0 to 243\n",
      "Data columns (total 7 columns):\n",
      "total_bill    244 non-null float64\n",
      "tip           244 non-null float64\n",
      "sex           244 non-null object\n",
      "smoker        244 non-null object\n",
      "day           244 non-null object\n",
      "time          244 non-null object\n",
      "size          244 non-null int64\n",
      "dtypes: float64(2), int64(1), object(4)\n",
      "memory usage: 13.4+ KB\n",
      "None\n",
      "   total_bill   tip     sex smoker  day    time  size\n",
      "0       16.99  1.01  Female     No  Sun  Dinner     2\n",
      "1       10.34  1.66    Male     No  Sun  Dinner     3\n",
      "2       21.01  3.50    Male     No  Sun  Dinner     3\n",
      "3       23.68  3.31    Male     No  Sun  Dinner     2\n",
      "4       24.59  3.61  Female     No  Sun  Dinner     4\n",
      "5       25.29  4.71    Male     No  Sun  Dinner     4\n",
      "6        8.77  2.00    Male     No  Sun  Dinner     2\n",
      "7       26.88  3.12    Male     No  Sun  Dinner     4\n",
      "8       15.04  1.96    Male     No  Sun  Dinner     2\n",
      "9       14.78  3.23    Male     No  Sun  Dinner     2\n",
      "     total_bill   tip     sex smoker   day    time  size\n",
      "232       11.61  3.39    Male     No   Sat  Dinner     2\n",
      "233       10.77  1.47    Male     No   Sat  Dinner     2\n",
      "234       15.53  3.00    Male    Yes   Sat  Dinner     2\n",
      "235       10.07  1.25    Male     No   Sat  Dinner     2\n",
      "236       12.60  1.00    Male    Yes   Sat  Dinner     2\n",
      "237       32.83  1.17    Male    Yes   Sat  Dinner     2\n",
      "238       35.83  4.67  Female     No   Sat  Dinner     3\n",
      "239       29.03  5.92    Male     No   Sat  Dinner     3\n",
      "240       27.18  2.00  Female    Yes   Sat  Dinner     2\n",
      "241       22.67  2.00    Male    Yes   Sat  Dinner     2\n",
      "242       17.82  1.75    Male     No   Sat  Dinner     2\n",
      "243       18.78  3.00  Female     No  Thur  Dinner     2\n"
     ]
    }
   ],
   "source": [
    "# PDF          normed=True        Deprecato\n",
    "# CDF          cumulative=True\n",
    "# hist\n",
    "\n",
    "\"\"\"\n",
    "PDF\n",
    "Remember, when plotting the PDF, you need to specify normed=True in your call to .hist(), \n",
    "\n",
    "CDF\n",
    "and when plotting the CDF, you need to specify cumulative=True in addition to normed=True.\n",
    "\"\"\"\n",
    "\n",
    "import pandas as pd\n",
    "import matplotlib.pyplot as plt\n",
    "import numpy as np\n",
    "\n",
    "tips_df = pd.read_csv('tips.csv')\n",
    "\n",
    "print(tips_df.info())\n",
    "\n",
    "print(tips_df.head(10))\n",
    "\n",
    "print(tips_df.tail(12))"
   ]
  },
  {
   "cell_type": "code",
   "execution_count": 26,
   "metadata": {},
   "outputs": [
    {
     "data": {
      "image/png": "[encoded data removed]",
      "text/plain": [
       "<Figure size 432x288 with 1 Axes>"
      ]
     },
     "metadata": {
      "needs_background": "light"
     },
     "output_type": "display_data"
    },
    {
     "data": {
      "image/png": "[encoded data removed]",
      "text/plain": [
       "<Figure size 432x288 with 1 Axes>"
      ]
     },
     "metadata": {
      "needs_background": "light"
     },
     "output_type": "display_data"
    },
    {
     "data": {
      "image/png": "[encoded data removed]",
      "text/plain": [
       "<Figure size 432x288 with 1 Axes>"
      ]
     },
     "metadata": {
      "needs_background": "light"
     },
     "output_type": "display_data"
    },
    {
     "data": {
      "image/png": "[encoded data removed]",
      "text/plain": [
       "<Figure size 432x288 with 1 Axes>"
      ]
     },
     "metadata": {
      "needs_background": "light"
     },
     "output_type": "display_data"
    }
   ],
   "source": [
    "# Aggiusta se vuoi runnarlo!\n",
    "# normed=True          Deprecato\n",
    "# cumulative=True\n",
    "\n",
    "# range=(0,.3) fa saltare tutto il grafico!\n",
    "\n",
    "# Plot the PDF\n",
    "tips_df['tip'].plot(kind='hist', bins=5)                         \n",
    "plt.show()\n",
    "\n",
    "tips_df['tip'].plot(kind='hist', bins=5, density=True)                         \n",
    "plt.show()\n",
    "\n",
    "# Plot the CDF\n",
    "tips_df.total_bill.plot(kind='hist', bins=30, cumulative=True)\n",
    "plt.show()\n",
    "\n",
    "tips_df.total_bill.plot(kind='hist', bins=30, cumulative=True, density=True)\n",
    "plt.show()"
   ]
  },
  {
   "cell_type": "code",
   "execution_count": null,
   "metadata": {},
   "outputs": [],
   "source": []
  }
 ],
 "metadata": {
  "kernelspec": {
   "display_name": "Python 3",
   "language": "python",
   "name": "python3"
  },
  "language_info": {
   "codemirror_mode": {
    "name": "ipython",
    "version": 3
   },
   "file_extension": ".py",
   "mimetype": "text/x-python",
   "name": "python",
   "nbconvert_exporter": "python",
   "pygments_lexer": "ipython3",
   "version": "3.7.3"
  }
 },
 "nbformat": 4,
 "nbformat_minor": 2
}
