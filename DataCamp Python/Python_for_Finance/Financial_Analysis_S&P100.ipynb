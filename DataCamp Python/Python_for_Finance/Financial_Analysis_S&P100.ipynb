{
 "cells": [
  {
   "cell_type": "markdown",
   "metadata": {},
   "source": [
    "# S&P 100\n",
    "\n",
    "Stocks in the S&P 100 are selected to represent sector balance and market capitalization. To begin, let's take a look at what data we have associated with S&P companies.\n",
    "\n",
    "### Price to Earnings Ratio - PE ratio\n",
    "\n",
    "Price to earning ratio = Market price / EPS(Earnings per share)\n",
    "\n",
    "The ratio for valuing a company that measures its current share price relative to its per-share earnings\n",
    "In general, higher P/E ratio indicates higher growth expectations"
   ]
  },
  {
   "cell_type": "code",
   "execution_count": 2,
   "metadata": {},
   "outputs": [
    {
     "name": "stdout",
     "output_type": "stream",
     "text": [
      "                           Name                  Sector    Price    EPS\n",
      "0                     Apple Inc  Information Technology   170.12   9.20\n",
      "1                    Abbvie Inc             Health Care    93.29   5.31\n",
      "2           Abbott Laboratories             Health Care    55.28   2.41\n",
      "3                 Accenture Plc  Information Technology   145.30   5.91\n",
      "4                  Allergan Plc             Health Care   171.81  15.42\n",
      "5  American International Group              Financials    59.50   2.51\n",
      "6                 Allstate Corp              Financials   100.50   6.79\n",
      "7                         Amgen             Health Care   168.93  12.58\n",
      "8               Amazon.Com Inc.  Consumer Discretionary  1126.82   3.94\n",
      "9      American Express Company              Financials    93.92   5.22\n"
     ]
    }
   ],
   "source": [
    "import pandas as pd\n",
    "import matplotlib.pyplot as plt\n",
    "import numpy as np\n",
    "\n",
    "df_SP100 = pd.read_csv('S&P100_data.csv')\n",
    "\n",
    "print(df_SP100.head(10))"
   ]
  },
  {
   "cell_type": "code",
   "execution_count": null,
   "metadata": {},
   "outputs": [],
   "source": []
  }
 ],
 "metadata": {
  "kernelspec": {
   "display_name": "Python 3",
   "language": "python",
   "name": "python3"
  },
  "language_info": {
   "codemirror_mode": {
    "name": "ipython",
    "version": 3
   },
   "file_extension": ".py",
   "mimetype": "text/x-python",
   "name": "python",
   "nbconvert_exporter": "python",
   "pygments_lexer": "ipython3",
   "version": "3.7.3"
  }
 },
 "nbformat": 4,
 "nbformat_minor": 2
}
