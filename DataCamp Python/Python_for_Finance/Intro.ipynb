{
 "cells": [
  {
   "cell_type": "markdown",
   "metadata": {},
   "source": [
    "# PYTHON FOR FINANCE\n",
    "\n",
    "The financial industry is increasingly adopting Python for general-purpose programming and quantitative analysis, ranging from understanding trading dynamics to risk management systems. This course focuses specifically on introducing Python for financial analysis. Using practical examples, you will learn the fundamentals of Python data structures such as lists and arrays and learn powerful ways to store and manipulate financial data to identify trends."
   ]
  },
  {
   "cell_type": "code",
   "execution_count": 1,
   "metadata": {},
   "outputs": [
    {
     "name": "stdout",
     "output_type": "stream",
     "text": [
      "The revenue of Microsoft in 2020 was $1098.8 billion.\n"
     ]
    }
   ],
   "source": [
    "company_1 = \"Microsoft\"\n",
    "year_1 = 2020\n",
    "revenue_1 = 1098.8\n",
    "\n",
    "# Update data types\n",
    "year_1_str = str(year_1)\n",
    "revenue_1_str = str(revenue_1)\n",
    "\n",
    "# Create a complete sentence combining only the string data types\n",
    "sentence = 'The revenue of ' + company_1 + ' in ' + year_1_str + ' was $' + revenue_1_str + ' billion.'\n",
    "\n",
    "# Print sentence\n",
    "print(sentence)"
   ]
  },
  {
   "cell_type": "code",
   "execution_count": 4,
   "metadata": {},
   "outputs": [
    {
     "name": "stdout",
     "output_type": "stream",
     "text": [
      "['Apple Inc', 'Coca-Cola', 'Walmart']\n",
      "[159.54, 37.13, 71.17]\n",
      "Apple Inc\n",
      "Coca-Cola\n",
      "71.17\n",
      "[159.54, 37.13]\n"
     ]
    }
   ],
   "source": [
    "# Create and print list names\n",
    "names = ['Apple Inc', 'Coca-Cola', 'Walmart']\n",
    "print(names)\n",
    "\n",
    "# Create and print list prices\n",
    "prices = [159.54, 37.13, 71.17]\n",
    "print(prices)\n",
    "\n",
    "# Print the first item in names\n",
    "print(names[0])\n",
    "\n",
    "# Print the second item in names\n",
    "print(names[1])\n",
    "\n",
    "# Print the last element in prices\n",
    "print(prices[-1])\n",
    "\n",
    "# Use extended slicing on the list prices\n",
    "prices_subset = prices[:-1]\n",
    "print(prices_subset)"
   ]
  },
  {
   "cell_type": "code",
   "execution_count": 7,
   "metadata": {},
   "outputs": [
    {
     "name": "stdout",
     "output_type": "stream",
     "text": [
      "[['Apple Inc', 'Coca-Cola', 'Walmart'], [159.54, 37.13, 71.17]]\n",
      "[159.54, 37.13, 71.17]\n",
      "Coca-Cola\n",
      "71.17\n",
      "The largest stock price is associated with Apple Inc and is $159.54.\n"
     ]
    }
   ],
   "source": [
    "# Create and print the nested list stocks\n",
    "stocks = [names, prices]\n",
    "print(stocks)\n",
    "\n",
    "# Use list indexing to obtain the list of prices\n",
    "print(stocks[1])\n",
    "\n",
    "# Use indexing to obtain company name Coca-Cola\n",
    "print(stocks[0][1])\n",
    "\n",
    "# Use indexing to obtain 71.17\n",
    "print(stocks[1][2])\n",
    "\n",
    "max_price = max(prices)\n",
    "\n",
    "# Identify index of max price\n",
    "max_index = prices.index(max_price)\n",
    "\n",
    "# Identify the name of the company with max price\n",
    "max_stock_name = names[max_index]\n",
    "\n",
    "# Fill in the blanks \n",
    "print('The largest stock price is associated with ' + max_stock_name + ' and is $' + str(max_price) + '.')"
   ]
  },
  {
   "cell_type": "code",
   "execution_count": 8,
   "metadata": {},
   "outputs": [
    {
     "name": "stdout",
     "output_type": "stream",
     "text": [
      "['Apple Inc', 'Coca-Cola', 'Walmart', 'Amazon.com']\n",
      "['Apple Inc', 'Coca-Cola', 'Walmart', 'Amazon.com', 'DowDuPont', 'Alphabet Inc']\n"
     ]
    }
   ],
   "source": [
    "# Append a name to the list names\n",
    "names.append('Amazon.com')\n",
    "print(names)\n",
    "\n",
    "# Extend list names\n",
    "more_elements = ['DowDuPont', 'Alphabet Inc']\n",
    "names.extend(more_elements)\n",
    "print(names)"
   ]
  },
  {
   "cell_type": "markdown",
   "metadata": {},
   "source": [
    "# Create an array - numpy\n",
    "\n",
    "You can use the NumPy package to create arrays. NumPy arrays are optimized for numerical analyses and contain only a single data type. To convert a list to an array, you can use the array() function from NumPy."
   ]
  },
  {
   "cell_type": "code",
   "execution_count": 10,
   "metadata": {},
   "outputs": [
    {
     "name": "stdout",
     "output_type": "stream",
     "text": [
      "[170.12  93.29  55.28 145.3  171.81  59.5  100.5 ]\n",
      "[ 9.2   5.31  2.41  5.91 15.42  2.51  6.79]\n",
      "<class 'list'>\n",
      "<class 'numpy.ndarray'>\n"
     ]
    }
   ],
   "source": [
    "# Import numpy as np\n",
    "import numpy as np\n",
    "\n",
    "# Lists\n",
    "prices = [170.12, 93.29, 55.28, 145.30, 171.81, 59.50, 100.50]\n",
    "earnings = [9.2, 5.31, 2.41, 5.91, 15.42, 2.51, 6.79]\n",
    "\n",
    "# NumPy arrays\n",
    "prices_array = np.array(prices)\n",
    "earnings_array = np.array(earnings)\n",
    "\n",
    "# Print the arrays\n",
    "print(prices_array)\n",
    "print(earnings_array)\n",
    "\n",
    "print(type(prices))\n",
    "print(type(prices_array))"
   ]
  },
  {
   "cell_type": "markdown",
   "metadata": {},
   "source": [
    "# Elementwise operations on arrays, like vectors\n",
    "Arrays allow for efficient numerical manipulation of its elements. Let's explore element-wise mathematical operations by calculating price to earnings ratio using two arrays, prices_array and earnings_array from the previous exercise.\n",
    "\n",
    "# Price to earnings ratio - PE ratio\n",
    "This price to earnings ratio, or PE ratio, is a financial indicator of the dollar amount an investor can expect to invest in a company in order to receive one dollar of that company’s earnings.\n",
    "\n",
    "# PE ratio = Price Market / Earnings per share(EPS)"
   ]
  },
  {
   "cell_type": "code",
   "execution_count": 19,
   "metadata": {},
   "outputs": [
    {
     "name": "stdout",
     "output_type": "stream",
     "text": [
      "PE ratio array:\n",
      "\n",
      "[18.49130435 17.56873823 22.93775934 24.58544839 11.14202335 23.70517928\n",
      " 14.8011782 ]\n",
      "\n",
      "Subsetting the prices array:\n",
      "[170.12  93.29  55.28 145.3  171.81  59.5  100.5 ]\n",
      "\n",
      "[170.12  93.29  55.28]\n",
      "[171.81  59.5  100.5 ]\n",
      "[170.12 145.3  100.5 ]\n"
     ]
    }
   ],
   "source": [
    "# Import numpy as np\n",
    "import numpy as np\n",
    "\n",
    "# Create PE ratio array\n",
    "pe_array = np.array(prices_array / earnings_array)\n",
    "\n",
    "print(\"PE ratio array:\\n\")\n",
    "# Print pe_array\n",
    "print(pe_array)\n",
    "\n",
    "\n",
    "print(\"\\nSubsetting the prices array:\")\n",
    "print(prices_array)\n",
    "\n",
    "# Subset the first three elements\n",
    "prices_subset_1 = prices_array[:3]\n",
    "print(f\"\\n{ prices_subset_1 }\")\n",
    "\n",
    "# Subset last three elements \n",
    "prices_subset_2 = prices_array[-3:]\n",
    "print(prices_subset_2)\n",
    "\n",
    "# Subset every third element - Subset every third element from the prices_array using step slicing.\n",
    "prices_subset_3 = prices_array[0:7:3]\n",
    "print(prices_subset_3)"
   ]
  },
  {
   "cell_type": "code",
   "execution_count": 5,
   "metadata": {},
   "outputs": [
    {
     "name": "stdout",
     "output_type": "stream",
     "text": [
      "[[170.12  93.29  55.28 145.3  171.81  59.5  100.5 ]\n",
      " [  9.2    5.31   2.41   5.91  15.42   2.51   6.79]]\n",
      "(2, 7)\n",
      "14\n",
      "\n",
      "Matrice trasposta:\n",
      "\n",
      "[[170.12   9.2 ]\n",
      " [ 93.29   5.31]\n",
      " [ 55.28   2.41]\n",
      " [145.3    5.91]\n",
      " [171.81  15.42]\n",
      " [ 59.5    2.51]\n",
      " [100.5    6.79]]\n",
      "(7, 2)\n",
      "14\n",
      "[170.12  93.29  55.28 145.3  171.81  59.5  100.5 ]\n",
      "[ 9.2   5.31  2.41  5.91 15.42  2.51  6.79]\n",
      "[170.12   9.2 ]\n"
     ]
    }
   ],
   "source": [
    "import numpy as np\n",
    "\n",
    "# Lists\n",
    "prices = [170.12, 93.29, 55.28, 145.30, 171.81, 59.50, 100.50]\n",
    "earnings = [9.2, 5.31, 2.41, 5.91, 15.42, 2.51, 6.79]\n",
    "\n",
    "# Create a 2D array of prices and earnings\n",
    "stock_array = np.array([prices, earnings])           # Fondamentale [ ... ]\n",
    "print(stock_array)\n",
    "\n",
    "# Print the shape of stock_array\n",
    "print(stock_array.shape)\n",
    "\n",
    "# Print the size of stock_array\n",
    "print(stock_array.size)\n",
    "\n",
    "print(\"\\nMatrice trasposta:\\n\")\n",
    "\n",
    "# Transpose stock_array\n",
    "stock_array_transposed = np.transpose(stock_array)\n",
    "print(stock_array_transposed)\n",
    "\n",
    "# Print the shape of stock_array\n",
    "print(stock_array_transposed.shape)\n",
    "\n",
    "# Print the size of stock_array\n",
    "print(stock_array_transposed.size)\n",
    "\n",
    "# Subset prices from stock_array_transposed\n",
    "prices = stock_array_transposed[:, 0]\n",
    "print(prices)\n",
    "\n",
    "# Subset earnings from stock_array_transposed\n",
    "earnings = stock_array_transposed[:, 1]\n",
    "print(earnings)\n",
    "\n",
    "# Subset the price and earning for first company\n",
    "company_1 = stock_array_transposed[0, :]\n",
    "print(company_1)"
   ]
  },
  {
   "cell_type": "code",
   "execution_count": 6,
   "metadata": {},
   "outputs": [
    {
     "name": "stdout",
     "output_type": "stream",
     "text": [
      "[170.12  93.29  55.28 145.3  171.81  59.5  100.5 ]\n",
      "MEAN: 113.6857142857143\n",
      "STANDARD DEVIATION: 45.51277932221513\n"
     ]
    }
   ],
   "source": [
    "# Calculating array stats\n",
    "\n",
    "print(prices)\n",
    "\n",
    "# Calculate the mean \n",
    "prices_mean = np.mean(prices)\n",
    "print(\"MEAN:\", prices_mean)\n",
    "\n",
    "# Calculate the standard deviation \n",
    "prices_std = np.std(prices)\n",
    "print(\"STANDARD DEVIATION:\", prices_std)"
   ]
  },
  {
   "cell_type": "code",
   "execution_count": 8,
   "metadata": {},
   "outputs": [
    {
     "name": "stdout",
     "output_type": "stream",
     "text": [
      "[1 2 3 4 5 6 7]\n",
      "[1 3 5 7]\n",
      "[10 11 12 13 14 15 16 17 18 19]\n",
      "<class 'numpy.ndarray'>\n"
     ]
    }
   ],
   "source": [
    "# Generating a sequence of numbers. You may want to create an array of a range of numbers\n",
    "# The NumPy function arange() is an efficient way to create numeric arrays of a range of numbers.\n",
    "# np.arange(start, stop, step)\n",
    "\n",
    "# Create and print company IDs Create an array company_ids containing the numbers 1 through 7 (inclusive).\n",
    "company_ids = np.arange(1, 8, 1)\n",
    "print(company_ids)\n",
    "\n",
    "# Use array slicing to select specific company IDs. \n",
    "# Create an array company_ids_odd containing only the odd numbers from 1 through 7 (inclusive).\n",
    "company_ids_odd = np.arange(1, 8, 2)\n",
    "print(company_ids_odd)\n",
    "\n",
    "npArray1 = np.arange(10, 20)\n",
    "print(npArray1)\n",
    "print(type(npArray1))"
   ]
  },
  {
   "cell_type": "code",
   "execution_count": 10,
   "metadata": {},
   "outputs": [
    {
     "name": "stdout",
     "output_type": "stream",
     "text": [
      "[170.12  93.29  55.28 145.3  171.81  59.5  100.5 ]\n",
      "113.6857142857143\n",
      "[ True False False  True  True False False]\n",
      "[170.12 145.3  171.81]\n"
     ]
    }
   ],
   "source": [
    "# Who's above average?    Boolean arrays can be a very powerful way to subset arrays.\n",
    "\n",
    "# Find the mean\n",
    "price_mean = np.mean(prices)\n",
    "\n",
    "print(prices)\n",
    "print(price_mean)\n",
    "\n",
    "# Create boolean array\n",
    "boolean_array = prices > price_mean\n",
    "print(boolean_array)\n",
    "\n",
    "# Select prices that are greater than average\n",
    "above_avg = prices[boolean_array]\n",
    "print(above_avg)"
   ]
  },
  {
   "cell_type": "markdown",
   "metadata": {},
   "source": [
    "# Visualization in Python - MATPLOTLIB\n",
    "\n",
    "Matplotlib package for creating line plots, scatter plots, and histograms.\n",
    "\n",
    "Importing matplotlib and pyplot\n",
    "\n",
    "Pyplot is a collection of functions in the popular visualization package Matplotlib. Its functions manipulate elements of a figure, such as creating a figure, creating a plotting area, plotting lines, adding plot labels, etc. Let's use the plot() function from pyplot to create a dashed line graph showing the growth of a company's stock. Remember, you can change the color of the line by adding the argument color and the linestlye by adding the argument linestyle."
   ]
  },
  {
   "cell_type": "code",
   "execution_count": 2,
   "metadata": {},
   "outputs": [
    {
     "name": "stdout",
     "output_type": "stream",
     "text": [
      "   Day  Price\n",
      "0    1  78.72\n",
      "1    2  78.31\n",
      "2    3  75.98\n",
      "3    4  78.21\n",
      "4    5  78.21\n",
      "5    6  76.34\n",
      "6    7  75.75\n",
      "7    8  75.71\n"
     ]
    },
    {
     "data": {
      "image/png": "[encoded data removed]",
      "text/plain": [
       "<Figure size 432x288 with 1 Axes>"
      ]
     },
     "metadata": {
      "needs_background": "light"
     },
     "output_type": "display_data"
    }
   ],
   "source": [
    "# Import matplotlib.pyplot with the alias plt\n",
    "import matplotlib.pyplot as plt\n",
    "import numpy as np\n",
    "import pandas as pd\n",
    "\n",
    "df1 = pd.read_csv('Stocks_data_I.csv')\n",
    "print(df1.head(8))\n",
    "\n",
    "# Plot the price of stock over time\n",
    "plt.plot(df1['Day'], df1['Price'], color=\"red\", linestyle=\"--\")\n",
    "\n",
    "# Display the plot\n",
    "plt.show()"
   ]
  },
  {
   "cell_type": "code",
   "execution_count": 4,
   "metadata": {},
   "outputs": [
    {
     "name": "stdout",
     "output_type": "stream",
     "text": [
      "<class 'pandas.core.series.Series'>\n",
      "<class 'pandas.core.series.Series'>\n",
      "<class 'pandas.core.frame.DataFrame'>\n",
      "<class 'pandas.core.frame.DataFrame'>\n",
      "\n",
      "\n",
      "\n",
      "\n"
     ]
    },
    {
     "data": {
      "image/png": "[encoded data removed]",
      "text/plain": [
       "<Figure size 432x288 with 1 Axes>"
      ]
     },
     "metadata": {
      "needs_background": "light"
     },
     "output_type": "display_data"
    }
   ],
   "source": [
    "days = df1['Day']\n",
    "prices = df1['Price']\n",
    "\n",
    "print(type(df1['Day']))\n",
    "print(type(prices))                      # con [ ... ] è Series\n",
    "print(type(df1[['Day']]))                # con [[ ... ]] è DataFrame\n",
    "print(type(df1))\n",
    "\n",
    "print(\"\\n\\n\\n\")\n",
    "\n",
    "# Plot price as a function of time\n",
    "plt.plot(days, prices, color=\"red\", linestyle=\"--\")\n",
    "\n",
    "# Add x and y labels\n",
    "plt.xlabel('Days')\n",
    "plt.ylabel('Prices, $')\n",
    "\n",
    "# Add plot title\n",
    "plt.title('Company Stock Prices Over Time')\n",
    "\n",
    "# Show plot\n",
    "plt.show()"
   ]
  },
  {
   "cell_type": "code",
   "execution_count": 9,
   "metadata": {},
   "outputs": [
    {
     "name": "stdout",
     "output_type": "stream",
     "text": [
      "   day  company1   company2\n",
      "0    1     78.72  62.957142\n",
      "1    2     78.31  62.185715\n",
      "2    3     75.98  62.971428\n",
      "3    4     78.21  64.279999\n",
      "4    5     78.21  64.998573\n"
     ]
    },
    {
     "data": {
      "image/png": "[encoded data removed]",
      "text/plain": [
       "<Figure size 432x288 with 1 Axes>"
      ]
     },
     "metadata": {
      "needs_background": "light"
     },
     "output_type": "display_data"
    }
   ],
   "source": [
    "# Multiple lines on the same plot -----> You can also plot multiple datasets as different lines.\n",
    "# To do so, you can use the plot() function multiple times. Let's plot the stocks of two companies over time.\n",
    "\n",
    "# Plot prices1 data with a red line, and prices2 data with a green line.\n",
    "\n",
    "df2 = pd.read_csv('Stocks_data_II.csv')\n",
    "print(df2.head())                                   # head(5) by default\n",
    "\n",
    "# Plot two lines of varying colors \n",
    "plt.plot(df2['day'], df2['company1'], color='red')\n",
    "plt.plot(df2['day'], df2['company2'], color='green')          # Se non metti i colori personalizza Python\n",
    "\n",
    "# Add labels\n",
    "plt.xlabel('Days')\n",
    "plt.ylabel('Prices, $')\n",
    "plt.title('Stock Prices Over Time')\n",
    "plt.show()"
   ]
  },
  {
   "cell_type": "code",
   "execution_count": 11,
   "metadata": {},
   "outputs": [
    {
     "data": {
      "image/png": "[encoded data removed]",
      "text/plain": [
       "<Figure size 432x288 with 1 Axes>"
      ]
     },
     "metadata": {
      "needs_background": "light"
     },
     "output_type": "display_data"
    }
   ],
   "source": [
    "# Scatterplots\n",
    "# The pyplot module can also be used to make other types of plots, like scatterplots. \n",
    "# Let's make a scatterplot of the company's stock prices over time.\n",
    "\n",
    "# Draw a scatterplot with days on the x-axis and prices on the y-axis with green markers.\n",
    "\n",
    "# Import pyplot as plt\n",
    "import matplotlib.pyplot as plt\n",
    "\n",
    "# Plot price as a function of time\n",
    "plt.scatter(days, prices, color='green', s=0.1)\n",
    "# days and prices sono due variabili che contengono Pandas.Series definite precedentemente.\n",
    "\n",
    "# Show plot\n",
    "plt.show()\n",
    "\n",
    "# The argument s in plt.scatter() controls the size of the markers."
   ]
  },
  {
   "cell_type": "code",
   "execution_count": 17,
   "metadata": {},
   "outputs": [
    {
     "data": {
      "image/png": "[encoded data removed]",
      "text/plain": [
       "<Figure size 432x288 with 1 Axes>"
      ]
     },
     "metadata": {
      "needs_background": "light"
     },
     "output_type": "display_data"
    },
    {
     "name": "stdout",
     "output_type": "stream",
     "text": [
      "\n",
      "Indice di SKEWNESS:\n",
      "1.0797443885952096\n"
     ]
    }
   ],
   "source": [
    "# Is data normally distributed?             HISTOGRAM ---------> plt.hist()\n",
    "# A histogram is an efficient visual tool to examine whether your data is normally distributed, or centered around the mean.\n",
    "\n",
    "# Plot histogram \n",
    "plt.hist(prices, bins=100)\n",
    "\n",
    "# Display plot\n",
    "plt.show()\n",
    "\n",
    "print(\"\\nIndice di SKEWNESS:\")\n",
    "print(prices.skew())           # Return unbiased skew over requested axis  --------->  INDICE DI SKEWNESS"
   ]
  },
  {
   "cell_type": "code",
   "execution_count": 20,
   "metadata": {},
   "outputs": [
    {
     "name": "stdout",
     "output_type": "stream",
     "text": [
      "   day  company1   company2\n",
      "0    1     78.72  62.957142\n",
      "1    2     78.31  62.185715\n",
      "2    3     75.98  62.971428\n",
      "3    4     78.21  64.279999\n",
      "4    5     78.21  64.998573\n"
     ]
    },
    {
     "data": {
      "image/png": "[encoded data removed]",
      "text/plain": [
       "<Figure size 432x288 with 1 Axes>"
      ]
     },
     "metadata": {
      "needs_background": "light"
     },
     "output_type": "display_data"
    }
   ],
   "source": [
    "# Comparing two histograms - Histograms can also be used to compare the distributions of multiple datasets.\n",
    "\n",
    "print(df2.head())\n",
    "stock_A = df2['company1']\n",
    "stock_B = df2['company2']\n",
    "\n",
    "# Plot histogram of stocks_A - Plot the histogram of stock_A with 100 bins and a transparency of 0.4.\n",
    "plt.hist(stock_A, bins=100, alpha=0.4)\n",
    "\n",
    "# Plot histogram of stocks_B - Plot the histogram of stock_B with 100 bins and a transparency of 0.4.\n",
    "plt.hist(stock_B, bins=100, alpha=0.4)\n",
    "\n",
    "# Display plot\n",
    "plt.show()"
   ]
  },
  {
   "cell_type": "code",
   "execution_count": 31,
   "metadata": {},
   "outputs": [
    {
     "data": {
      "image/png": "[encoded data removed]",
      "text/plain": [
       "<Figure size 432x288 with 1 Axes>"
      ]
     },
     "metadata": {
      "needs_background": "light"
     },
     "output_type": "display_data"
    }
   ],
   "source": [
    "# Adding a legend\n",
    "# A legend can be useful when plotting multiple datasets to identify which plot is associated with a specific dataset.\n",
    "\n",
    "# Plot stock_A and stock_B histograms\n",
    "plt.hist(stock_A, bins=100, alpha=0.4, label='Stock A')                   # Puoi anche settare il colore\n",
    "plt.hist(stock_B, bins=100, alpha=0.4, label='Stock B')\n",
    "\n",
    "# Add the legend\n",
    "plt.xlabel('Prices of the stocks')\n",
    "plt.ylabel('FREQUENCY')\n",
    "plt.title('HISTOGRAMS OF THE STOCKS\\' PRICE')\n",
    "plt.legend()\n",
    "\n",
    "# Display the plot\n",
    "plt.show()"
   ]
  },
  {
   "cell_type": "code",
   "execution_count": 45,
   "metadata": {},
   "outputs": [
    {
     "data": {
      "image/png": "[encoded data removed]",
      "text/plain": [
       "<Figure size 432x288 with 1 Axes>"
      ]
     },
     "metadata": {
      "needs_background": "light"
     },
     "output_type": "display_data"
    },
    {
     "name": "stdout",
     "output_type": "stream",
     "text": [
      "count    1260.000000\n",
      "mean      164.349883\n",
      "std        69.087912\n",
      "min        35.030000\n",
      "25%        97.097500\n",
      "50%       175.930000\n",
      "75%       219.507500\n",
      "max       308.690000\n",
      "Name: company1, dtype: float64\n"
     ]
    },
    {
     "data": {
      "image/png": "[encoded data removed]",
      "text/plain": [
       "<Figure size 432x288 with 1 Axes>"
      ]
     },
     "metadata": {
      "needs_background": "light"
     },
     "output_type": "display_data"
    },
    {
     "name": "stdout",
     "output_type": "stream",
     "text": [
      "count    1260.000000\n",
      "mean      119.842049\n",
      "std        32.936568\n",
      "min        62.185715\n",
      "25%        96.657499\n",
      "50%       113.694999\n",
      "75%       143.722500\n",
      "max       194.139999\n",
      "Name: company2, dtype: float64\n",
      "\n",
      "\n",
      "\n",
      "Tipo degli stocks A e B:\n",
      "<class 'pandas.core.series.Series'>\n",
      "<class 'pandas.core.series.Series'>\n"
     ]
    }
   ],
   "source": [
    "# BOXPLOT\n",
    "\n",
    "plt.boxplot(stock_A)\n",
    "plt.xlabel('STOCK A')\n",
    "plt.show()\n",
    "print(stock_A.describe())\n",
    "\n",
    "plt.boxplot(stock_B)\n",
    "plt.xlabel('STOCK B')\n",
    "plt.show()\n",
    "print(stock_B.describe())\n",
    "\n",
    "print(\"\\n\\n\\nTipo degli stocks A e B:\")\n",
    "print(type(stock_A))\n",
    "print(type(stock_B))"
   ]
  },
  {
   "cell_type": "code",
   "execution_count": null,
   "metadata": {},
   "outputs": [],
   "source": []
  }
 ],
 "metadata": {
  "kernelspec": {
   "display_name": "Python 3",
   "language": "python",
   "name": "python3"
  },
  "language_info": {
   "codemirror_mode": {
    "name": "ipython",
    "version": 3
   },
   "file_extension": ".py",
   "mimetype": "text/x-python",
   "name": "python",
   "nbconvert_exporter": "python",
   "pygments_lexer": "ipython3",
   "version": "3.7.3"
  }
 },
 "nbformat": 4,
 "nbformat_minor": 2
}
